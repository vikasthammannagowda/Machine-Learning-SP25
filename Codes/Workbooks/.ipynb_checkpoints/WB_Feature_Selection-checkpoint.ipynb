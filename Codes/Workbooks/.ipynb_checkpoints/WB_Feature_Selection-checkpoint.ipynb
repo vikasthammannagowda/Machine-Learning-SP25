{
 "cells": [
  {
   "cell_type": "markdown",
   "id": "43bd0ca6",
   "metadata": {},
   "source": [
    "# Import Libraries"
   ]
  },
  {
   "cell_type": "code",
   "execution_count": null,
   "id": "a5005a39",
   "metadata": {},
   "outputs": [],
   "source": []
  },
  {
   "cell_type": "markdown",
   "id": "2d8255c6",
   "metadata": {},
   "source": [
    "# Load the dataset "
   ]
  },
  {
   "cell_type": "code",
   "execution_count": null,
   "id": "43b9d6e5",
   "metadata": {},
   "outputs": [],
   "source": []
  },
  {
   "cell_type": "markdown",
   "id": "4c12ebc3",
   "metadata": {},
   "source": [
    "# Take a look at the data"
   ]
  },
  {
   "cell_type": "code",
   "execution_count": null,
   "id": "2cee716b",
   "metadata": {},
   "outputs": [],
   "source": []
  },
  {
   "cell_type": "markdown",
   "id": "99459cf3",
   "metadata": {},
   "source": [
    "# Check the details"
   ]
  },
  {
   "cell_type": "code",
   "execution_count": null,
   "id": "e1c90917",
   "metadata": {},
   "outputs": [],
   "source": []
  },
  {
   "cell_type": "markdown",
   "id": "3f233da4",
   "metadata": {},
   "source": [
    "# Look at the total number of missing values in each column"
   ]
  },
  {
   "cell_type": "code",
   "execution_count": null,
   "id": "9652487b",
   "metadata": {},
   "outputs": [],
   "source": []
  },
  {
   "cell_type": "markdown",
   "id": "1b0fe642",
   "metadata": {},
   "source": [
    "# Drop columns"
   ]
  },
  {
   "cell_type": "code",
   "execution_count": null,
   "id": "0a9b2cf6",
   "metadata": {},
   "outputs": [],
   "source": []
  },
  {
   "cell_type": "code",
   "execution_count": null,
   "id": "2aa7caf7",
   "metadata": {},
   "outputs": [],
   "source": []
  },
  {
   "cell_type": "markdown",
   "id": "bc2db544",
   "metadata": {},
   "source": [
    "# Price column"
   ]
  },
  {
   "cell_type": "code",
   "execution_count": 3,
   "id": "fcb66092",
   "metadata": {},
   "outputs": [],
   "source": [
    "# check value counts"
   ]
  },
  {
   "cell_type": "code",
   "execution_count": null,
   "id": "67066cfa",
   "metadata": {},
   "outputs": [],
   "source": []
  },
  {
   "cell_type": "markdown",
   "id": "5e24a12b",
   "metadata": {},
   "source": [
    "# Kilometers column"
   ]
  },
  {
   "cell_type": "code",
   "execution_count": null,
   "id": "8c40bd42",
   "metadata": {},
   "outputs": [],
   "source": []
  },
  {
   "cell_type": "code",
   "execution_count": null,
   "id": "e2f75faa",
   "metadata": {},
   "outputs": [],
   "source": []
  },
  {
   "cell_type": "code",
   "execution_count": null,
   "id": "5476e777",
   "metadata": {},
   "outputs": [],
   "source": []
  },
  {
   "cell_type": "markdown",
   "id": "a60a8caf",
   "metadata": {},
   "source": [
    "# No_of_Cylinders column"
   ]
  },
  {
   "cell_type": "code",
   "execution_count": 1,
   "id": "2642452c",
   "metadata": {},
   "outputs": [],
   "source": [
    "# check value counts"
   ]
  },
  {
   "cell_type": "code",
   "execution_count": 2,
   "id": "5fc17d07",
   "metadata": {},
   "outputs": [],
   "source": [
    "# select number of cylinders between x and y"
   ]
  },
  {
   "cell_type": "code",
   "execution_count": null,
   "id": "0e69ee1e",
   "metadata": {},
   "outputs": [],
   "source": []
  },
  {
   "cell_type": "markdown",
   "id": "c7b1a627",
   "metadata": {},
   "source": [
    "# Horse Power column"
   ]
  },
  {
   "cell_type": "code",
   "execution_count": null,
   "id": "c4a9d956",
   "metadata": {},
   "outputs": [],
   "source": []
  },
  {
   "cell_type": "code",
   "execution_count": null,
   "id": "82244c72",
   "metadata": {},
   "outputs": [],
   "source": []
  }
 ],
 "metadata": {
  "kernelspec": {
   "display_name": "Python 3 (ipykernel)",
   "language": "python",
   "name": "python3"
  },
  "language_info": {
   "codemirror_mode": {
    "name": "ipython",
    "version": 3
   },
   "file_extension": ".py",
   "mimetype": "text/x-python",
   "name": "python",
   "nbconvert_exporter": "python",
   "pygments_lexer": "ipython3",
   "version": "3.10.9"
  }
 },
 "nbformat": 4,
 "nbformat_minor": 5
}
