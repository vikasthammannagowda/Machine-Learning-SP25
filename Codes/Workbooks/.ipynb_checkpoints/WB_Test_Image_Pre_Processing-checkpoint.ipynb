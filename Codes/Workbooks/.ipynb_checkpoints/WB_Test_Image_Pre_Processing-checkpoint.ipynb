{
 "cells": [
  {
   "cell_type": "code",
   "execution_count": 1,
   "id": "7e514816",
   "metadata": {},
   "outputs": [],
   "source": [
    "import imageio\n",
    "from PIL import Image\n",
    "import numpy as np\n",
    "\n",
    "def grayscale_to_binary(image_path, threshold,new_width, new_height):\n",
    "    # Open the grayscale image\n",
    "    with Image.open(image_path) as img:\n",
    "        # Convert the image to grayscale if it's not already\n",
    "        \n",
    "        img = img.convert('L')\n",
    "        # Create a binary image by applying threshold\n",
    "        binary_img = img.point(lambda p: 255 if p > threshold else 0, mode='1')\n",
    "        # Display or save the binary image\n",
    "        #binary_img.show()\n",
    "        # If you want to save the binary image\n",
    "        #binary_img.save(\"/Users/vikas/Desktop/binary_image.jpg\")\n",
    "        \n",
    "        # invert\n",
    "        img_gray = binary_img.convert('L')\n",
    "        img_array = np.array(img_gray)\n",
    "        inverted_img_array = 255 - img_array\n",
    "        inverted_img = Image.fromarray(inverted_img_array)\n",
    "        inverted_img.show()\n",
    "        \n",
    "        resized_img = inverted_img.resize((new_width, new_height))\n",
    "        resized_img.save(\"/Users/vikas/Desktop/resized_image.jpg\")\n",
    "        #resized_img.show()\n",
    "        #resized_img.save(\"/Users/vikas/Desktop/resized_image.jpg\")\n",
    "\n",
    "        \n",
    "#image_path = \"/Users/vikas/Desktop/test_2a.jpg\"\n",
    "threshold = 128  # Threshold value (adjust as needed)\n",
    "new_width = 28  # Replace with the desired width in pixels\n",
    "new_height = 28  # Replace with the desired height in pixels\n",
    "#grayscale_to_binary(image_path, threshold,new_width, new_height)"
   ]
  },
  {
   "cell_type": "code",
   "execution_count": null,
   "id": "6a6e79a1",
   "metadata": {},
   "outputs": [],
   "source": []
  }
 ],
 "metadata": {
  "kernelspec": {
   "display_name": "Python 3 (ipykernel)",
   "language": "python",
   "name": "python3"
  },
  "language_info": {
   "codemirror_mode": {
    "name": "ipython",
    "version": 3
   },
   "file_extension": ".py",
   "mimetype": "text/x-python",
   "name": "python",
   "nbconvert_exporter": "python",
   "pygments_lexer": "ipython3",
   "version": "3.10.9"
  }
 },
 "nbformat": 4,
 "nbformat_minor": 5
}
