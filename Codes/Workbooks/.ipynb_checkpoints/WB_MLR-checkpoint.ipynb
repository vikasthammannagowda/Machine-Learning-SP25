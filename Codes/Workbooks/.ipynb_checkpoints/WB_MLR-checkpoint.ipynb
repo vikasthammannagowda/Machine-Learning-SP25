{
 "cells": [
  {
   "cell_type": "code",
   "execution_count": 1,
   "id": "36e9b5bf",
   "metadata": {},
   "outputs": [],
   "source": [
    "import numpy as np\n",
    "import pandas as pd\n",
    "import seaborn as sns\n",
    "import matplotlib.pyplot as plt\n",
    "\n",
    "import warnings\n",
    "warnings.filterwarnings('ignore')\n",
    "\n",
    "\n",
    "from sklearn.linear_model import LinearRegression\n",
    "from sklearn.model_selection import train_test_split as tts\n",
    "from sklearn import metrics\n",
    "from sklearn.preprocessing import StandardScaler\n",
    "from sklearn.decomposition import PCA"
   ]
  },
  {
   "cell_type": "code",
   "execution_count": 7,
   "id": "a89c8275",
   "metadata": {},
   "outputs": [],
   "source": [
    "def my_StdSclr(data_to_scale):\n",
    "    scaler = StandardScaler()\n",
    "    scaled_data = scaler.fit_transform(data_to_scale)\n",
    "    data_SS = pd.DataFrame(scaled_data,columns=data_to_scale.columns)\n",
    "    return data_SS\n",
    "\n",
    "def my_LinReg(x_input, y_output):\n",
    "    X_train, X_test, y_train, y_test = tts((x_input),my_StdSclr(y_output),test_size = 0.2)\n",
    "    reg = LinearRegression()\n",
    "    reg.fit(X_train, y_train)\n",
    "    r_sq = reg.score(X_train, y_train)\n",
    "    y_hat = reg.predict(X_test)\n",
    "    m_se = metrics.mean_squared_error(y_test, y_hat)\n",
    "    return (r_sq, m_se)\n",
    "\n",
    "def my_PCA(data_to_compress, n):\n",
    "    pca = PCA()\n",
    "    data_pca = pca.fit_transform(my_StdSclr(data_to_compress))\n",
    "    data_pcadf = pd.DataFrame(data_pca)\n",
    "    component = data_pcadf.iloc[:,0:n]\n",
    "    return component"
   ]
  },
  {
   "cell_type": "code",
   "execution_count": 4,
   "id": "9d00e432",
   "metadata": {},
   "outputs": [],
   "source": [
    "data = pd.read_csv(\"used_car_clean.csv\")"
   ]
  },
  {
   "cell_type": "code",
   "execution_count": 5,
   "id": "b8d96ef8",
   "metadata": {},
   "outputs": [],
   "source": [
    "x_ind_columns =['body_condition', 'mechanical_condition', \n",
    "                'no_of_cylinders', 'horsepower', 'year', 'Mileage']"
   ]
  },
  {
   "cell_type": "code",
   "execution_count": 6,
   "id": "5d1d8f7e",
   "metadata": {},
   "outputs": [],
   "source": [
    "y = pd.DataFrame(data['Price_USD'])"
   ]
  },
  {
   "cell_type": "code",
   "execution_count": 10,
   "id": "42363fb2",
   "metadata": {},
   "outputs": [
    {
     "data": {
      "text/html": [
       "<div>\n",
       "<style scoped>\n",
       "    .dataframe tbody tr th:only-of-type {\n",
       "        vertical-align: middle;\n",
       "    }\n",
       "\n",
       "    .dataframe tbody tr th {\n",
       "        vertical-align: top;\n",
       "    }\n",
       "\n",
       "    .dataframe thead th {\n",
       "        text-align: right;\n",
       "    }\n",
       "</style>\n",
       "<table border=\"1\" class=\"dataframe\">\n",
       "  <thead>\n",
       "    <tr style=\"text-align: right;\">\n",
       "      <th></th>\n",
       "      <th>Columns</th>\n",
       "      <th>R_squared</th>\n",
       "      <th>Mean_error</th>\n",
       "    </tr>\n",
       "  </thead>\n",
       "  <tbody>\n",
       "    <tr>\n",
       "      <th>0</th>\n",
       "      <td>body_condition</td>\n",
       "      <td>0.004627</td>\n",
       "      <td>0.997984</td>\n",
       "    </tr>\n",
       "    <tr>\n",
       "      <th>1</th>\n",
       "      <td>mechanical_condition</td>\n",
       "      <td>0.002121</td>\n",
       "      <td>1.040240</td>\n",
       "    </tr>\n",
       "    <tr>\n",
       "      <th>2</th>\n",
       "      <td>no_of_cylinders</td>\n",
       "      <td>0.079427</td>\n",
       "      <td>0.936631</td>\n",
       "    </tr>\n",
       "    <tr>\n",
       "      <th>3</th>\n",
       "      <td>horsepower</td>\n",
       "      <td>0.196452</td>\n",
       "      <td>0.850828</td>\n",
       "    </tr>\n",
       "    <tr>\n",
       "      <th>4</th>\n",
       "      <td>year</td>\n",
       "      <td>0.144522</td>\n",
       "      <td>0.829910</td>\n",
       "    </tr>\n",
       "    <tr>\n",
       "      <th>5</th>\n",
       "      <td>Mileage</td>\n",
       "      <td>0.266973</td>\n",
       "      <td>0.769302</td>\n",
       "    </tr>\n",
       "  </tbody>\n",
       "</table>\n",
       "</div>"
      ],
      "text/plain": [
       "                Columns  R_squared  Mean_error\n",
       "0        body_condition   0.004627    0.997984\n",
       "1  mechanical_condition   0.002121    1.040240\n",
       "2       no_of_cylinders   0.079427    0.936631\n",
       "3            horsepower   0.196452    0.850828\n",
       "4                  year   0.144522    0.829910\n",
       "5               Mileage   0.266973    0.769302"
      ]
     },
     "execution_count": 10,
     "metadata": {},
     "output_type": "execute_result"
    }
   ],
   "source": [
    "result = pd.read_csv(\"SLR_results.csv\")\n",
    "result"
   ]
  },
  {
   "cell_type": "code",
   "execution_count": null,
   "id": "49abe8f3",
   "metadata": {},
   "outputs": [],
   "source": []
  }
 ],
 "metadata": {
  "kernelspec": {
   "display_name": "Python 3 (ipykernel)",
   "language": "python",
   "name": "python3"
  },
  "language_info": {
   "codemirror_mode": {
    "name": "ipython",
    "version": 3
   },
   "file_extension": ".py",
   "mimetype": "text/x-python",
   "name": "python",
   "nbconvert_exporter": "python",
   "pygments_lexer": "ipython3",
   "version": "3.10.9"
  }
 },
 "nbformat": 4,
 "nbformat_minor": 5
}
