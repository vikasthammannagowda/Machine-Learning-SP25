{
 "cells": [
  {
   "cell_type": "code",
   "execution_count": 1,
   "id": "535b3a01",
   "metadata": {},
   "outputs": [],
   "source": [
    "import numpy as np\n",
    "import pandas as pd\n",
    "import seaborn as sns\n",
    "import matplotlib.pyplot as plt\n",
    "\n",
    "import warnings\n",
    "warnings.filterwarnings('ignore')\n",
    "\n",
    "from sklearn.linear_model import LinearRegression, Lasso, Ridge, ElasticNet\n",
    "from sklearn.model_selection import train_test_split as tts\n",
    "from sklearn.metrics import mean_squared_error\n",
    "from sklearn.preprocessing import StandardScaler"
   ]
  },
  {
   "cell_type": "code",
   "execution_count": 2,
   "id": "4dc852ee",
   "metadata": {},
   "outputs": [],
   "source": [
    "def my_StdSclr(data_to_scale):\n",
    "    scaler = StandardScaler()\n",
    "    scaled_data = scaler.fit_transform(data_to_scale)\n",
    "    data_SS = pd.DataFrame(scaled_data,columns=data_to_scale.columns)\n",
    "    return data_SS\n",
    "\n",
    "def my_PCA(data_to_compress, n):\n",
    "    pca = PCA()\n",
    "    data_pca = pca.fit_transform(my_StdSclr(data_to_compress))\n",
    "    data_pcadf = pd.DataFrame(data_pca)\n",
    "    component = data_pcadf.iloc[:,0:n]\n",
    "    return component"
   ]
  },
  {
   "cell_type": "code",
   "execution_count": 3,
   "id": "ce2be02a",
   "metadata": {},
   "outputs": [],
   "source": [
    "data = pd.read_csv(\"used_car_clean.csv\")\n",
    "body_type_dummy = pd.get_dummies(data['body_type'])\n",
    "data_dummy = pd.concat([data, body_type_dummy], axis=1)\n",
    "to_drop = ['body_type','Coupe']\n",
    "data = data_dummy.drop(to_drop, axis = 1)"
   ]
  },
  {
   "cell_type": "code",
   "execution_count": null,
   "id": "2906bdae",
   "metadata": {},
   "outputs": [],
   "source": []
  },
  {
   "cell_type": "code",
   "execution_count": null,
   "id": "19e6e6a7",
   "metadata": {},
   "outputs": [],
   "source": []
  }
 ],
 "metadata": {
  "kernelspec": {
   "display_name": "Python 3 (ipykernel)",
   "language": "python",
   "name": "python3"
  },
  "language_info": {
   "codemirror_mode": {
    "name": "ipython",
    "version": 3
   },
   "file_extension": ".py",
   "mimetype": "text/x-python",
   "name": "python",
   "nbconvert_exporter": "python",
   "pygments_lexer": "ipython3",
   "version": "3.10.9"
  }
 },
 "nbformat": 4,
 "nbformat_minor": 5
}
