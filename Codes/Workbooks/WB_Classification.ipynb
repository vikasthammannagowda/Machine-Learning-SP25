{
 "cells": [
  {
   "cell_type": "code",
   "execution_count": 1,
   "id": "75fcc937",
   "metadata": {},
   "outputs": [],
   "source": [
    "import numpy as np\n",
    "import pandas as pd\n",
    "import seaborn as sns\n",
    "import matplotlib.pyplot as plt\n",
    "\n",
    "import warnings\n",
    "warnings.filterwarnings('ignore')\n",
    "\n",
    "\n",
    "from sklearn.tree import DecisionTreeClassifier, plot_tree\n",
    "from sklearn.ensemble import RandomForestClassifier\n",
    "from sklearn.model_selection import train_test_split as tts\n",
    "from sklearn.metrics import accuracy_score, precision_score, recall_score, f1_score, confusion_matrix\n"
   ]
  },
  {
   "cell_type": "code",
   "execution_count": null,
   "id": "1d94e5ba",
   "metadata": {},
   "outputs": [],
   "source": []
  },
  {
   "cell_type": "code",
   "execution_count": null,
   "id": "6014cac4",
   "metadata": {},
   "outputs": [],
   "source": []
  },
  {
   "cell_type": "code",
   "execution_count": null,
   "id": "29f4f9ef",
   "metadata": {},
   "outputs": [],
   "source": []
  },
  {
   "cell_type": "code",
   "execution_count": null,
   "id": "5aa0a1cd",
   "metadata": {},
   "outputs": [],
   "source": []
  },
  {
   "cell_type": "code",
   "execution_count": null,
   "id": "fb1a59fc",
   "metadata": {},
   "outputs": [],
   "source": []
  },
  {
   "cell_type": "code",
   "execution_count": null,
   "id": "3a50554c",
   "metadata": {},
   "outputs": [],
   "source": []
  },
  {
   "cell_type": "code",
   "execution_count": null,
   "id": "d93824fa",
   "metadata": {},
   "outputs": [],
   "source": []
  },
  {
   "cell_type": "code",
   "execution_count": null,
   "id": "69214bbb",
   "metadata": {},
   "outputs": [],
   "source": []
  },
  {
   "cell_type": "code",
   "execution_count": null,
   "id": "83908301",
   "metadata": {},
   "outputs": [],
   "source": []
  },
  {
   "cell_type": "code",
   "execution_count": null,
   "id": "fca27374",
   "metadata": {},
   "outputs": [],
   "source": []
  },
  {
   "cell_type": "markdown",
   "id": "ac76ece8",
   "metadata": {},
   "source": [
    "# Random Forests"
   ]
  },
  {
   "cell_type": "markdown",
   "id": "a52f9184",
   "metadata": {},
   "source": [
    "\n",
    "Random Forest is a powerful ensemble learning technique used for classification and regression. \n",
    "\n",
    "It's essentially a collection of decision trees trained on different subsets of the dataset and then combined to make predictions. "
   ]
  },
  {
   "cell_type": "markdown",
   "id": "4ca5e6c9",
   "metadata": {},
   "source": [
    "# Ensemble Learning\n",
    "Random Forests employ the concept of ensemble learning, which combines multiple models to improve prediction accuracy. \n",
    "\n",
    "In the case of Random Forests, these models are decision trees."
   ]
  },
  {
   "cell_type": "markdown",
   "id": "e5da8479",
   "metadata": {},
   "source": [
    "# Randomization\n",
    "The \"random\" in Random Forests refers to two types of randomization:\n",
    "\n",
    "$Random$ $Sampling$ $of$ $Training$ $Data$: Each tree in the forest is built using a different bootstrap sample of the original dataset. This means that each tree is trained on a subset of the data, with replacement. This process is called bootstrapping.\n",
    "\n",
    "$Random$ $Subset$ $of$ $Features$: At each node of the decision tree, instead of considering all features to split on, Random Forests only consider a random subset of features. This helps to decorrelate the trees and make the forest more robust."
   ]
  },
  {
   "cell_type": "markdown",
   "id": "e8e54b4f",
   "metadata": {},
   "source": [
    "# Voting\n",
    "Once all the trees are built, classification is done by aggregating the predictions of individual trees. For a new instance, each tree in the forest gives a classification, and the class that gets the most votes is taken as the final prediction. This is known as majority voting."
   ]
  },
  {
   "cell_type": "markdown",
   "id": "af461ad1",
   "metadata": {},
   "source": [
    "# Example\n",
    "\n",
    "Consider a dataset with features like age, income, and education, and the task is to predict whether a person will buy a product or not. \n",
    "\n",
    "A Random Forest model would build multiple decision trees based on subsets of data and features. \n",
    "\n",
    "Each decision tree might make a slightly different prediction based on its subset of data and features. \n",
    "\n",
    "Then, the Random Forest model aggregates these predictions to make the final prediction.\n",
    "\n",
    "For instance, \n",
    "\n",
    "if there are 100 decision trees in the forest,  \n",
    "\n",
    "70 of them predict that the person will buy the product while 30 predict that the person won't, \n",
    "\n",
    "the Random Forest model would predict that the person will buy the product (assuming majority voting)."
   ]
  }
 ],
 "metadata": {
  "kernelspec": {
   "display_name": "Python 3 (ipykernel)",
   "language": "python",
   "name": "python3"
  },
  "language_info": {
   "codemirror_mode": {
    "name": "ipython",
    "version": 3
   },
   "file_extension": ".py",
   "mimetype": "text/x-python",
   "name": "python",
   "nbconvert_exporter": "python",
   "pygments_lexer": "ipython3",
   "version": "3.10.9"
  }
 },
 "nbformat": 4,
 "nbformat_minor": 5
}
