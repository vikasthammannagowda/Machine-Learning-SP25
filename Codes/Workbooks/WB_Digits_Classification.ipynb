{
 "cells": [
  {
   "cell_type": "code",
   "execution_count": 1,
   "id": "ed00738b",
   "metadata": {},
   "outputs": [],
   "source": [
    "import os\n",
    "import numpy as np\n",
    "from PIL import Image\n",
    "import matplotlib.pyplot as plt\n",
    "\n",
    "# Training data\n",
    "\n",
    "# Function to load images from folders and assign labels \n",
    "def train_images_to_array(root_folder):\n",
    "    images = []\n",
    "    labels = []\n",
    "    for label in os.listdir(root_folder):\n",
    "        label_folder = os.path.join(root_folder, label)\n",
    "        if os.path.isdir(label_folder):\n",
    "            for filename in os.listdir(label_folder):\n",
    "                img_path = os.path.join(label_folder, filename)\n",
    "                try:\n",
    "                    img = Image.open(img_path).convert(\"L\")  # Convert image to grayscale\n",
    "                    if img is not None:\n",
    "                        img = img.resize((28, 28))  # Resize the image to 28x28\n",
    "                        img = np.array(img) / 255.0  # Normalize pixel values\n",
    "                        images.append(img.flatten())  # Flatten the image and add to the list\n",
    "                        labels.append(int(label))  # Assign label from folder name\n",
    "                except:\n",
    "                    continue\n",
    "    return images, labels\n",
    "\n",
    "\n",
    "# Test data (Here the images do not have labels)\n",
    "\n",
    "# Function to load images from folders and convert to NumPy array\n",
    "def test_images_to_array(root_folder):\n",
    "    data = []\n",
    "    for filename in os.listdir(root_folder):\n",
    "        img_path = os.path.join(root_folder, filename)\n",
    "        try:\n",
    "            img = Image.open(img_path).convert(\"L\")  # Convert image to grayscale\n",
    "            if img is not None:\n",
    "                img = img.resize((28, 28))  # Resize the image to 28x28\n",
    "                img_array = np.array(img).flatten() / 255.0  # Flatten and normalize\n",
    "                data.append(img_array)  # Append flattened image\n",
    "        except:\n",
    "            continue\n",
    "    return np.array(data)\n",
    "\n",
    "\n",
    "# View images from csv format\n",
    "\n",
    "def view_image_csv(x_ind, y_dep, index, flag):    \n",
    "    # Reshape the flattened pixel values into the original 28x28 image shape\n",
    "    image = x_ind[index].reshape(28, 28)\n",
    "\n",
    "    # Display the image\n",
    "    plt.imshow(image, cmap='gray')\n",
    "    plt.axis('off')  # Turn off axis labels\n",
    "    plt.show()\n",
    "    if flag == True: # it is a training image\n",
    "        print(\"label: \",y_dep[index])\n"
   ]
  },
  {
   "cell_type": "code",
   "execution_count": null,
   "id": "251baaa7",
   "metadata": {},
   "outputs": [],
   "source": []
  },
  {
   "cell_type": "code",
   "execution_count": 1,
   "id": "6758c49a",
   "metadata": {},
   "outputs": [],
   "source": [
    "import numpy as np\n",
    "import pandas as pd\n",
    "import seaborn as sns\n",
    "import matplotlib.pyplot as plt\n",
    "\n",
    "import warnings\n",
    "warnings.filterwarnings('ignore')\n",
    "\n",
    "from sklearn.tree import DecisionTreeClassifier, plot_tree\n",
    "from sklearn.ensemble import RandomForestClassifier\n",
    "from sklearn.model_selection import train_test_split as tts\n",
    "from sklearn.metrics import accuracy_score, precision_score, recall_score, f1_score, confusion_matrix\n",
    "\n",
    "def my_metrics(y_test, y_pred):\n",
    "    # Evaluation metrics for classification\n",
    "    confusion = confusion_matrix(y_test, y_pred)\n",
    "    print(\"Confusion Matrix:\")\n",
    "    print(confusion)\n",
    "    accuracy = round(accuracy_score(y_test,y_pred),2)\n",
    "    print(\"Accuracy: \", accuracy)\n",
    "    precision = round(precision_score(y_test, y_pred, average = 'weighted'),2)\n",
    "    print(\"Precision: \", precision)\n",
    "    recall = round(recall_score(y_test, y_pred, average = 'weighted'),2)\n",
    "    print(\"Recall: \", recall)\n",
    "    f1 = round(f1_score(y_test, y_pred, average = 'weighted'),2)\n",
    "    print(\"F1 score: \", f1)"
   ]
  },
  {
   "cell_type": "code",
   "execution_count": null,
   "id": "1f02337f",
   "metadata": {},
   "outputs": [],
   "source": []
  },
  {
   "cell_type": "code",
   "execution_count": null,
   "id": "196954f6",
   "metadata": {},
   "outputs": [],
   "source": []
  },
  {
   "cell_type": "code",
   "execution_count": null,
   "id": "9b786f2f",
   "metadata": {},
   "outputs": [],
   "source": []
  },
  {
   "cell_type": "code",
   "execution_count": null,
   "id": "585b65ed",
   "metadata": {},
   "outputs": [],
   "source": [
    "# Path to the root folder containing the training images\n",
    "root_folder = \"/Users/vikas/codes/DAT_410_SP24/Classification/archive-2/trainingSet/trainingSet\""
   ]
  },
  {
   "cell_type": "markdown",
   "id": "4fa2db5a",
   "metadata": {},
   "source": [
    "# View image in .jpg format"
   ]
  },
  {
   "cell_type": "code",
   "execution_count": null,
   "id": "282ad4b9",
   "metadata": {},
   "outputs": [],
   "source": [
    "from PIL import Image\n",
    "import matplotlib.pyplot as plt\n",
    "\n",
    "# Load the image\n",
    "image_path = \"/Users/vikas/codes/DAT_410_SP24/Classification/archive-2/testSet/testSet/img_1.jpg\"\n",
    "\n",
    "image = Image.open(image_path)\n",
    "# Display the image\n",
    "plt.imshow(image, cmap = 'gray')\n",
    "plt.axis('off')  # Turn off axis labels\n",
    "plt.show()"
   ]
  },
  {
   "cell_type": "code",
   "execution_count": null,
   "id": "bc3f7130",
   "metadata": {},
   "outputs": [],
   "source": []
  },
  {
   "cell_type": "code",
   "execution_count": null,
   "id": "a5ea54c5",
   "metadata": {},
   "outputs": [],
   "source": []
  },
  {
   "cell_type": "code",
   "execution_count": null,
   "id": "d3f58ba8",
   "metadata": {},
   "outputs": [],
   "source": []
  },
  {
   "cell_type": "code",
   "execution_count": null,
   "id": "ca5f2b15",
   "metadata": {},
   "outputs": [],
   "source": []
  },
  {
   "cell_type": "code",
   "execution_count": null,
   "id": "0010aed4",
   "metadata": {},
   "outputs": [],
   "source": []
  },
  {
   "cell_type": "code",
   "execution_count": null,
   "id": "d606eac9",
   "metadata": {},
   "outputs": [],
   "source": []
  },
  {
   "cell_type": "code",
   "execution_count": null,
   "id": "8e298b71",
   "metadata": {},
   "outputs": [],
   "source": []
  },
  {
   "cell_type": "code",
   "execution_count": null,
   "id": "9416fac0",
   "metadata": {},
   "outputs": [],
   "source": []
  },
  {
   "cell_type": "code",
   "execution_count": null,
   "id": "b7eadf3b",
   "metadata": {},
   "outputs": [],
   "source": []
  },
  {
   "cell_type": "code",
   "execution_count": null,
   "id": "b1016531",
   "metadata": {},
   "outputs": [],
   "source": []
  }
 ],
 "metadata": {
  "kernelspec": {
   "display_name": "Python 3 (ipykernel)",
   "language": "python",
   "name": "python3"
  },
  "language_info": {
   "codemirror_mode": {
    "name": "ipython",
    "version": 3
   },
   "file_extension": ".py",
   "mimetype": "text/x-python",
   "name": "python",
   "nbconvert_exporter": "python",
   "pygments_lexer": "ipython3",
   "version": "3.10.9"
  }
 },
 "nbformat": 4,
 "nbformat_minor": 5
}
