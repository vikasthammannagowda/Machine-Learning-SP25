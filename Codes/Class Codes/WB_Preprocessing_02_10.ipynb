{
 "cells": [
  {
   "cell_type": "code",
   "execution_count": 122,
   "id": "4a57e35c-8e12-47a1-8004-48bf7ecae172",
   "metadata": {},
   "outputs": [],
   "source": [
    "import numpy as np\n",
    "import pandas as pd\n",
    "import matplotlib.pyplot as plt\n",
    "import seaborn as sns\n",
    "\n",
    "from sklearn.preprocessing import MinMaxScaler, Normalizer, StandardScaler\n",
    "\n",
    "import warnings\n",
    "warnings.filterwarnings('ignore')"
   ]
  },
  {
   "cell_type": "code",
   "execution_count": 123,
   "id": "01f32b42-6c98-4533-9e89-906c4f4705cd",
   "metadata": {},
   "outputs": [
    {
     "data": {
      "text/html": [
       "<div>\n",
       "<style scoped>\n",
       "    .dataframe tbody tr th:only-of-type {\n",
       "        vertical-align: middle;\n",
       "    }\n",
       "\n",
       "    .dataframe tbody tr th {\n",
       "        vertical-align: top;\n",
       "    }\n",
       "\n",
       "    .dataframe thead th {\n",
       "        text-align: right;\n",
       "    }\n",
       "</style>\n",
       "<table border=\"1\" class=\"dataframe\">\n",
       "  <thead>\n",
       "    <tr style=\"text-align: right;\">\n",
       "      <th></th>\n",
       "      <th>title</th>\n",
       "      <th>price_in_aed</th>\n",
       "      <th>kilometers</th>\n",
       "      <th>body_condition</th>\n",
       "      <th>mechanical_condition</th>\n",
       "      <th>seller_type</th>\n",
       "      <th>body_type</th>\n",
       "      <th>no_of_cylinders</th>\n",
       "      <th>transmission_type</th>\n",
       "      <th>regional_specs</th>\n",
       "      <th>horsepower</th>\n",
       "      <th>fuel_type</th>\n",
       "      <th>steering_side</th>\n",
       "      <th>year</th>\n",
       "      <th>color</th>\n",
       "      <th>emirate</th>\n",
       "      <th>motors_trim</th>\n",
       "      <th>company</th>\n",
       "      <th>model</th>\n",
       "      <th>date_posted</th>\n",
       "    </tr>\n",
       "  </thead>\n",
       "  <tbody>\n",
       "    <tr>\n",
       "      <th>0</th>\n",
       "      <td>MITSUBISHI PAJERO 3.5L / 2013</td>\n",
       "      <td>26,000</td>\n",
       "      <td>167390</td>\n",
       "      <td>Perfect inside and out</td>\n",
       "      <td>Perfect inside and out</td>\n",
       "      <td>Dealer</td>\n",
       "      <td>SUV</td>\n",
       "      <td>6</td>\n",
       "      <td>Automatic Transmission</td>\n",
       "      <td>GCC Specs</td>\n",
       "      <td>Unknown</td>\n",
       "      <td>Gasoline</td>\n",
       "      <td>Left Hand Side</td>\n",
       "      <td>2013.0</td>\n",
       "      <td>Silver</td>\n",
       "      <td>Dubai</td>\n",
       "      <td>GLS</td>\n",
       "      <td>mitsubishi</td>\n",
       "      <td>pajero</td>\n",
       "      <td>13/05/2022</td>\n",
       "    </tr>\n",
       "    <tr>\n",
       "      <th>1</th>\n",
       "      <td>chevrolet silverado</td>\n",
       "      <td>110,000</td>\n",
       "      <td>39000</td>\n",
       "      <td>Perfect inside and out</td>\n",
       "      <td>Perfect inside and out</td>\n",
       "      <td>Dealer</td>\n",
       "      <td>SUV</td>\n",
       "      <td>8</td>\n",
       "      <td>Automatic Transmission</td>\n",
       "      <td>North American Specs</td>\n",
       "      <td>400 - 500 HP</td>\n",
       "      <td>Gasoline</td>\n",
       "      <td>Left Hand Side</td>\n",
       "      <td>2018.0</td>\n",
       "      <td>White</td>\n",
       "      <td>Sharjah</td>\n",
       "      <td>1500 High Country</td>\n",
       "      <td>chevrolet</td>\n",
       "      <td>silverado</td>\n",
       "      <td>14/01/2022</td>\n",
       "    </tr>\n",
       "  </tbody>\n",
       "</table>\n",
       "</div>"
      ],
      "text/plain": [
       "                           title price_in_aed  kilometers  \\\n",
       "0  MITSUBISHI PAJERO 3.5L / 2013       26,000      167390   \n",
       "1            chevrolet silverado      110,000       39000   \n",
       "\n",
       "           body_condition    mechanical_condition seller_type body_type  \\\n",
       "0  Perfect inside and out  Perfect inside and out      Dealer       SUV   \n",
       "1  Perfect inside and out  Perfect inside and out      Dealer       SUV   \n",
       "\n",
       "  no_of_cylinders       transmission_type        regional_specs    horsepower  \\\n",
       "0               6  Automatic Transmission             GCC Specs       Unknown   \n",
       "1               8  Automatic Transmission  North American Specs  400 - 500 HP   \n",
       "\n",
       "  fuel_type   steering_side    year   color   emirate        motors_trim  \\\n",
       "0  Gasoline  Left Hand Side  2013.0  Silver     Dubai                GLS   \n",
       "1  Gasoline  Left Hand Side  2018.0   White   Sharjah  1500 High Country   \n",
       "\n",
       "      company      model date_posted  \n",
       "0  mitsubishi     pajero  13/05/2022  \n",
       "1   chevrolet  silverado  14/01/2022  "
      ]
     },
     "execution_count": 123,
     "metadata": {},
     "output_type": "execute_result"
    }
   ],
   "source": [
    "data = pd.read_csv(\"used_cs_1.csv\")\n",
    "data.head(2)"
   ]
  },
  {
   "cell_type": "markdown",
   "id": "f86a2ef8-6118-4669-bc98-c69ba5029a17",
   "metadata": {},
   "source": [
    "# Check the details"
   ]
  },
  {
   "cell_type": "code",
   "execution_count": 124,
   "id": "fb63a7c2-86d9-4a6d-93e4-ba3557aa9efb",
   "metadata": {},
   "outputs": [
    {
     "data": {
      "text/html": [
       "<div>\n",
       "<style scoped>\n",
       "    .dataframe tbody tr th:only-of-type {\n",
       "        vertical-align: middle;\n",
       "    }\n",
       "\n",
       "    .dataframe tbody tr th {\n",
       "        vertical-align: top;\n",
       "    }\n",
       "\n",
       "    .dataframe thead th {\n",
       "        text-align: right;\n",
       "    }\n",
       "</style>\n",
       "<table border=\"1\" class=\"dataframe\">\n",
       "  <thead>\n",
       "    <tr style=\"text-align: right;\">\n",
       "      <th></th>\n",
       "      <th>kilometers</th>\n",
       "      <th>year</th>\n",
       "    </tr>\n",
       "  </thead>\n",
       "  <tbody>\n",
       "    <tr>\n",
       "      <th>count</th>\n",
       "      <td>9.970000e+03</td>\n",
       "      <td>9000.000000</td>\n",
       "    </tr>\n",
       "    <tr>\n",
       "      <th>mean</th>\n",
       "      <td>9.894896e+04</td>\n",
       "      <td>2015.626444</td>\n",
       "    </tr>\n",
       "    <tr>\n",
       "      <th>std</th>\n",
       "      <td>1.154300e+06</td>\n",
       "      <td>4.735991</td>\n",
       "    </tr>\n",
       "    <tr>\n",
       "      <th>min</th>\n",
       "      <td>0.000000e+00</td>\n",
       "      <td>1953.000000</td>\n",
       "    </tr>\n",
       "    <tr>\n",
       "      <th>25%</th>\n",
       "      <td>2.314350e+04</td>\n",
       "      <td>2014.000000</td>\n",
       "    </tr>\n",
       "    <tr>\n",
       "      <th>50%</th>\n",
       "      <td>7.600000e+04</td>\n",
       "      <td>2016.000000</td>\n",
       "    </tr>\n",
       "    <tr>\n",
       "      <th>75%</th>\n",
       "      <td>1.330828e+05</td>\n",
       "      <td>2019.000000</td>\n",
       "    </tr>\n",
       "    <tr>\n",
       "      <th>max</th>\n",
       "      <td>1.150000e+08</td>\n",
       "      <td>2021.000000</td>\n",
       "    </tr>\n",
       "  </tbody>\n",
       "</table>\n",
       "</div>"
      ],
      "text/plain": [
       "         kilometers         year\n",
       "count  9.970000e+03  9000.000000\n",
       "mean   9.894896e+04  2015.626444\n",
       "std    1.154300e+06     4.735991\n",
       "min    0.000000e+00  1953.000000\n",
       "25%    2.314350e+04  2014.000000\n",
       "50%    7.600000e+04  2016.000000\n",
       "75%    1.330828e+05  2019.000000\n",
       "max    1.150000e+08  2021.000000"
      ]
     },
     "execution_count": 124,
     "metadata": {},
     "output_type": "execute_result"
    }
   ],
   "source": [
    "data.describe()"
   ]
  },
  {
   "cell_type": "code",
   "execution_count": 125,
   "id": "7986c181-c110-486f-b6b6-1bdcef0e0ba1",
   "metadata": {},
   "outputs": [
    {
     "name": "stdout",
     "output_type": "stream",
     "text": [
      "<class 'pandas.core.frame.DataFrame'>\n",
      "RangeIndex: 9970 entries, 0 to 9969\n",
      "Data columns (total 20 columns):\n",
      " #   Column                Non-Null Count  Dtype  \n",
      "---  ------                --------------  -----  \n",
      " 0   title                 9965 non-null   object \n",
      " 1   price_in_aed          9970 non-null   object \n",
      " 2   kilometers            9970 non-null   int64  \n",
      " 3   body_condition        9970 non-null   object \n",
      " 4   mechanical_condition  9970 non-null   object \n",
      " 5   seller_type           9970 non-null   object \n",
      " 6   body_type             9970 non-null   object \n",
      " 7   no_of_cylinders       9889 non-null   object \n",
      " 8   transmission_type     9970 non-null   object \n",
      " 9   regional_specs        9970 non-null   object \n",
      " 10  horsepower            9970 non-null   object \n",
      " 11  fuel_type             9970 non-null   object \n",
      " 12  steering_side         9970 non-null   object \n",
      " 13  year                  9000 non-null   float64\n",
      " 14  color                 9970 non-null   object \n",
      " 15  emirate               9970 non-null   object \n",
      " 16  motors_trim           9942 non-null   object \n",
      " 17  company               9970 non-null   object \n",
      " 18  model                 9970 non-null   object \n",
      " 19  date_posted           9970 non-null   object \n",
      "dtypes: float64(1), int64(1), object(18)\n",
      "memory usage: 1.5+ MB\n"
     ]
    }
   ],
   "source": [
    "data.info()"
   ]
  },
  {
   "cell_type": "markdown",
   "id": "0119c604-ccb8-41e3-8091-02135161a835",
   "metadata": {},
   "source": [
    "# Look at the total number of missing values in each column"
   ]
  },
  {
   "cell_type": "code",
   "execution_count": 126,
   "id": "27882d66-6727-47df-baa2-c2d1a6c5a4d7",
   "metadata": {},
   "outputs": [
    {
     "data": {
      "text/plain": [
       "title                     5\n",
       "price_in_aed              0\n",
       "kilometers                0\n",
       "body_condition            0\n",
       "mechanical_condition      0\n",
       "seller_type               0\n",
       "body_type                 0\n",
       "no_of_cylinders          81\n",
       "transmission_type         0\n",
       "regional_specs            0\n",
       "horsepower                0\n",
       "fuel_type                 0\n",
       "steering_side             0\n",
       "year                    970\n",
       "color                     0\n",
       "emirate                   0\n",
       "motors_trim              28\n",
       "company                   0\n",
       "model                     0\n",
       "date_posted               0\n",
       "dtype: int64"
      ]
     },
     "execution_count": 126,
     "metadata": {},
     "output_type": "execute_result"
    }
   ],
   "source": [
    "data.isnull().sum()"
   ]
  },
  {
   "cell_type": "code",
   "execution_count": 127,
   "id": "593a5fc5-f490-4b9d-8add-1a62fc647cb0",
   "metadata": {},
   "outputs": [],
   "source": [
    "data.dropna(inplace = True)"
   ]
  },
  {
   "cell_type": "markdown",
   "id": "9146119c-9a64-4a2c-806d-ecd089d77ed7",
   "metadata": {},
   "source": [
    "# Feature Selection "
   ]
  },
  {
   "cell_type": "code",
   "execution_count": 128,
   "id": "1852e36d-6406-42b6-a0b6-e2809d0d09d0",
   "metadata": {},
   "outputs": [
    {
     "data": {
      "text/plain": [
       "Index(['title', 'price_in_aed', 'kilometers', 'body_condition',\n",
       "       'mechanical_condition', 'seller_type', 'body_type', 'no_of_cylinders',\n",
       "       'transmission_type', 'regional_specs', 'horsepower', 'fuel_type',\n",
       "       'steering_side', 'year', 'color', 'emirate', 'motors_trim', 'company',\n",
       "       'model', 'date_posted'],\n",
       "      dtype='object')"
      ]
     },
     "execution_count": 128,
     "metadata": {},
     "output_type": "execute_result"
    }
   ],
   "source": [
    "data.columns"
   ]
  },
  {
   "cell_type": "code",
   "execution_count": 129,
   "id": "1097dc36-8f01-4ba2-9c57-379914d436f8",
   "metadata": {},
   "outputs": [],
   "source": [
    "to_drop = ['title' ,'seller_type', 'regional_specs',  'fuel_type', 'color', 'emirate', 'motors_trim','model', 'date_posted']\n",
    "data.drop(columns = to_drop, inplace = True)"
   ]
  },
  {
   "cell_type": "markdown",
   "id": "9c6e9125-71a7-40eb-8f58-43a654bf2bc6",
   "metadata": {},
   "source": [
    "# Getting columns into appropriate data type and units"
   ]
  },
  {
   "cell_type": "markdown",
   "id": "e650465d-0da0-43db-a086-5f2dd03f3b54",
   "metadata": {},
   "source": [
    "# Price column"
   ]
  },
  {
   "cell_type": "code",
   "execution_count": 130,
   "id": "363c9038-ebae-4e1a-9755-699bf8d24a33",
   "metadata": {},
   "outputs": [],
   "source": [
    "data['price_in_aed'] = data['price_in_aed'].astype(\"category\")\n",
    "data['price_in_aed'] = data['price_in_aed'].str.replace(\",\",\"\")\n",
    "data['price_in_aed'] = data['price_in_aed'].astype(float)\n",
    "data['Price_USD'] = data['price_in_aed']*0.2722"
   ]
  },
  {
   "cell_type": "code",
   "execution_count": 131,
   "id": "ce3e0728-6ed7-4f12-bb53-1afbdf8f823b",
   "metadata": {},
   "outputs": [],
   "source": [
    "#data.info()"
   ]
  },
  {
   "cell_type": "markdown",
   "id": "530125ed-9345-471b-9a72-239c5f38cff0",
   "metadata": {},
   "source": [
    "# Kilometer column"
   ]
  },
  {
   "cell_type": "code",
   "execution_count": 132,
   "id": "744acfda-ef25-4ccc-b408-0dd3ff5f347a",
   "metadata": {},
   "outputs": [],
   "source": [
    "data['Mileage'] = data['kilometers'] * 0.6213"
   ]
  },
  {
   "cell_type": "code",
   "execution_count": 133,
   "id": "7cff24f0-92a5-4d3c-82fe-fd7a0834ffe7",
   "metadata": {},
   "outputs": [],
   "source": [
    "data.drop(columns = ['price_in_aed', 'kilometers'], inplace = True)"
   ]
  },
  {
   "cell_type": "code",
   "execution_count": 134,
   "id": "9ce09ad3-a5d3-4848-a7b9-b47c09b1172a",
   "metadata": {},
   "outputs": [
    {
     "name": "stdout",
     "output_type": "stream",
     "text": [
      "<class 'pandas.core.frame.DataFrame'>\n",
      "Index: 8944 entries, 0 to 9969\n",
      "Data columns (total 11 columns):\n",
      " #   Column                Non-Null Count  Dtype  \n",
      "---  ------                --------------  -----  \n",
      " 0   body_condition        8944 non-null   object \n",
      " 1   mechanical_condition  8944 non-null   object \n",
      " 2   body_type             8944 non-null   object \n",
      " 3   no_of_cylinders       8944 non-null   object \n",
      " 4   transmission_type     8944 non-null   object \n",
      " 5   horsepower            8944 non-null   object \n",
      " 6   steering_side         8944 non-null   object \n",
      " 7   year                  8944 non-null   float64\n",
      " 8   company               8944 non-null   object \n",
      " 9   Price_USD             8944 non-null   float64\n",
      " 10  Mileage               8944 non-null   float64\n",
      "dtypes: float64(3), object(8)\n",
      "memory usage: 838.5+ KB\n"
     ]
    }
   ],
   "source": [
    "data.info()"
   ]
  },
  {
   "cell_type": "code",
   "execution_count": 135,
   "id": "902cd924-b095-4ebf-9871-c9b765df1b00",
   "metadata": {},
   "outputs": [
    {
     "data": {
      "text/html": [
       "<div>\n",
       "<style scoped>\n",
       "    .dataframe tbody tr th:only-of-type {\n",
       "        vertical-align: middle;\n",
       "    }\n",
       "\n",
       "    .dataframe tbody tr th {\n",
       "        vertical-align: top;\n",
       "    }\n",
       "\n",
       "    .dataframe thead th {\n",
       "        text-align: right;\n",
       "    }\n",
       "</style>\n",
       "<table border=\"1\" class=\"dataframe\">\n",
       "  <thead>\n",
       "    <tr style=\"text-align: right;\">\n",
       "      <th></th>\n",
       "      <th>body_condition</th>\n",
       "      <th>mechanical_condition</th>\n",
       "      <th>body_type</th>\n",
       "      <th>no_of_cylinders</th>\n",
       "      <th>transmission_type</th>\n",
       "      <th>horsepower</th>\n",
       "      <th>steering_side</th>\n",
       "      <th>year</th>\n",
       "      <th>company</th>\n",
       "      <th>Price_USD</th>\n",
       "      <th>Mileage</th>\n",
       "    </tr>\n",
       "  </thead>\n",
       "  <tbody>\n",
       "    <tr>\n",
       "      <th>0</th>\n",
       "      <td>Perfect inside and out</td>\n",
       "      <td>Perfect inside and out</td>\n",
       "      <td>SUV</td>\n",
       "      <td>6</td>\n",
       "      <td>Automatic Transmission</td>\n",
       "      <td>Unknown</td>\n",
       "      <td>Left Hand Side</td>\n",
       "      <td>2013.0</td>\n",
       "      <td>mitsubishi</td>\n",
       "      <td>7077.2</td>\n",
       "      <td>103999.407</td>\n",
       "    </tr>\n",
       "    <tr>\n",
       "      <th>1</th>\n",
       "      <td>Perfect inside and out</td>\n",
       "      <td>Perfect inside and out</td>\n",
       "      <td>SUV</td>\n",
       "      <td>8</td>\n",
       "      <td>Automatic Transmission</td>\n",
       "      <td>400 - 500 HP</td>\n",
       "      <td>Left Hand Side</td>\n",
       "      <td>2018.0</td>\n",
       "      <td>chevrolet</td>\n",
       "      <td>29942.0</td>\n",
       "      <td>24230.700</td>\n",
       "    </tr>\n",
       "    <tr>\n",
       "      <th>2</th>\n",
       "      <td>Perfect inside and out</td>\n",
       "      <td>Perfect inside and out</td>\n",
       "      <td>Sedan</td>\n",
       "      <td>6</td>\n",
       "      <td>Automatic Transmission</td>\n",
       "      <td>400 - 500 HP</td>\n",
       "      <td>Left Hand Side</td>\n",
       "      <td>2014.0</td>\n",
       "      <td>mercedes-benz</td>\n",
       "      <td>21231.6</td>\n",
       "      <td>124260.000</td>\n",
       "    </tr>\n",
       "    <tr>\n",
       "      <th>3</th>\n",
       "      <td>Perfect inside and out</td>\n",
       "      <td>Perfect inside and out</td>\n",
       "      <td>Hard Top Convertible</td>\n",
       "      <td>8</td>\n",
       "      <td>Automatic Transmission</td>\n",
       "      <td>600 - 700 HP</td>\n",
       "      <td>Left Hand Side</td>\n",
       "      <td>2018.0</td>\n",
       "      <td>ferrari</td>\n",
       "      <td>244707.8</td>\n",
       "      <td>16775.100</td>\n",
       "    </tr>\n",
       "    <tr>\n",
       "      <th>4</th>\n",
       "      <td>Perfect inside and out</td>\n",
       "      <td>Perfect inside and out</td>\n",
       "      <td>Wagon</td>\n",
       "      <td>4</td>\n",
       "      <td>Manual Transmission</td>\n",
       "      <td>Less than 150 HP</td>\n",
       "      <td>Left Hand Side</td>\n",
       "      <td>2020.0</td>\n",
       "      <td>renault</td>\n",
       "      <td>8982.6</td>\n",
       "      <td>42869.700</td>\n",
       "    </tr>\n",
       "  </tbody>\n",
       "</table>\n",
       "</div>"
      ],
      "text/plain": [
       "           body_condition    mechanical_condition             body_type  \\\n",
       "0  Perfect inside and out  Perfect inside and out                   SUV   \n",
       "1  Perfect inside and out  Perfect inside and out                   SUV   \n",
       "2  Perfect inside and out  Perfect inside and out                 Sedan   \n",
       "3  Perfect inside and out  Perfect inside and out  Hard Top Convertible   \n",
       "4  Perfect inside and out  Perfect inside and out                 Wagon   \n",
       "\n",
       "  no_of_cylinders       transmission_type        horsepower   steering_side  \\\n",
       "0               6  Automatic Transmission           Unknown  Left Hand Side   \n",
       "1               8  Automatic Transmission      400 - 500 HP  Left Hand Side   \n",
       "2               6  Automatic Transmission      400 - 500 HP  Left Hand Side   \n",
       "3               8  Automatic Transmission      600 - 700 HP  Left Hand Side   \n",
       "4               4     Manual Transmission  Less than 150 HP  Left Hand Side   \n",
       "\n",
       "     year        company  Price_USD     Mileage  \n",
       "0  2013.0     mitsubishi     7077.2  103999.407  \n",
       "1  2018.0      chevrolet    29942.0   24230.700  \n",
       "2  2014.0  mercedes-benz    21231.6  124260.000  \n",
       "3  2018.0        ferrari   244707.8   16775.100  \n",
       "4  2020.0        renault     8982.6   42869.700  "
      ]
     },
     "execution_count": 135,
     "metadata": {},
     "output_type": "execute_result"
    }
   ],
   "source": [
    "data.head()"
   ]
  },
  {
   "cell_type": "markdown",
   "id": "42e88cef-5151-4226-9b72-9c59bd353853",
   "metadata": {},
   "source": [
    "# Number of cylinders column"
   ]
  },
  {
   "cell_type": "code",
   "execution_count": 136,
   "id": "8bdcd7dd-25e2-409a-a063-6130f4871cbb",
   "metadata": {},
   "outputs": [
    {
     "data": {
      "text/plain": [
       "no_of_cylinders\n",
       "6          3050\n",
       "4          2804\n",
       "8          2630\n",
       "12          282\n",
       "3            53\n",
       "Unknown      44\n",
       "5            42\n",
       "10           39\n",
       "Name: count, dtype: int64"
      ]
     },
     "execution_count": 136,
     "metadata": {},
     "output_type": "execute_result"
    }
   ],
   "source": [
    "data['no_of_cylinders'].value_counts()"
   ]
  },
  {
   "cell_type": "code",
   "execution_count": 137,
   "id": "4a6b73a4-075a-4379-8538-0e8252e90752",
   "metadata": {},
   "outputs": [],
   "source": [
    "mask_cly = (data['no_of_cylinders'] != 'Unknown') & (data['no_of_cylinders'] !='None')\n",
    "#data[mask_cly]\n",
    "data = data[mask_cly]"
   ]
  },
  {
   "cell_type": "code",
   "execution_count": 138,
   "id": "8633217c-0131-4ebd-9296-83a12874baf1",
   "metadata": {},
   "outputs": [],
   "source": [
    "data['no_of_cylinders'] = data['no_of_cylinders'].astype(float)"
   ]
  },
  {
   "cell_type": "markdown",
   "id": "d119c513-3e13-4cf9-a123-046e24da72af",
   "metadata": {},
   "source": [
    "# Hoursepower column"
   ]
  },
  {
   "cell_type": "code",
   "execution_count": 139,
   "id": "f4991aa6-ebcc-4959-b377-408244d73125",
   "metadata": {},
   "outputs": [],
   "source": [
    "mask_hp = data['horsepower'] != 'Unknown'\n",
    "data = data[mask_hp]\n",
    "map_hp = {'200 - 300 HP':'250', '300 - 400 HP':'350','150 - 200 HP':'175','400 - 500 HP':'450',\n",
    "         '600 - 700 HP':'650','700 - 800 HP':'750','800 - 900 HP':'850', '900+ HP':'950',\n",
    "         'Less than 150 HP':'125'}\n",
    "data['horsepower'] = data['horsepower'].map(map_hp)\n",
    "data['horsepower'] = data['horsepower'].astype(float)\n",
    "data.dropna(inplace= True)"
   ]
  },
  {
   "cell_type": "markdown",
   "id": "72100066-1af3-466e-9fd9-4e14c31f872a",
   "metadata": {},
   "source": [
    "# Body condition column\n"
   ]
  },
  {
   "cell_type": "code",
   "execution_count": 142,
   "id": "7896cbe9-346d-4357-911f-bf890ef65381",
   "metadata": {},
   "outputs": [],
   "source": [
    "map_body_condition = {'Perfect inside and out': '10', 'A bit of wear & tear, all repaired': '7',\n",
    "                     'No accidents, very few faults': '6', 'Normal wear & tear, a few issues': '4'}\n",
    "data['body_condition'] = data['body_condition'].map(map_body_condition)\n",
    "data['body_condition'] = data['body_condition'].astype(float)"
   ]
  },
  {
   "cell_type": "markdown",
   "id": "431bf95e-b4f1-4d69-8481-0e98566d8573",
   "metadata": {},
   "source": [
    "# Mechanical Condition column"
   ]
  },
  {
   "cell_type": "code",
   "execution_count": 143,
   "id": "354a9cf4-d628-4d9a-b818-5ae00897975c",
   "metadata": {},
   "outputs": [],
   "source": [
    "map_mech_condition = {'Perfect inside and out': '10', 'Minor faults, all fixed': '8',\n",
    "                     'Major faults fixed, small remain': '5', 'Ongoing minor & major faults': '4',\n",
    "                     'Major faults, all fixed':'6'}\n",
    "data['mechanical_condition'] = data['mechanical_condition'].map(map_mech_condition)\n",
    "data['mechanical_condition'] = data['mechanical_condition'].astype(float)"
   ]
  },
  {
   "cell_type": "code",
   "execution_count": 144,
   "id": "845653d6-ab27-4f9b-83c1-d59f49568a7f",
   "metadata": {},
   "outputs": [
    {
     "data": {
      "text/html": [
       "<div>\n",
       "<style scoped>\n",
       "    .dataframe tbody tr th:only-of-type {\n",
       "        vertical-align: middle;\n",
       "    }\n",
       "\n",
       "    .dataframe tbody tr th {\n",
       "        vertical-align: top;\n",
       "    }\n",
       "\n",
       "    .dataframe thead th {\n",
       "        text-align: right;\n",
       "    }\n",
       "</style>\n",
       "<table border=\"1\" class=\"dataframe\">\n",
       "  <thead>\n",
       "    <tr style=\"text-align: right;\">\n",
       "      <th></th>\n",
       "      <th>body_condition</th>\n",
       "      <th>mechanical_condition</th>\n",
       "      <th>body_type</th>\n",
       "      <th>no_of_cylinders</th>\n",
       "      <th>transmission_type</th>\n",
       "      <th>horsepower</th>\n",
       "      <th>steering_side</th>\n",
       "      <th>year</th>\n",
       "      <th>company</th>\n",
       "      <th>Price_USD</th>\n",
       "      <th>Mileage</th>\n",
       "    </tr>\n",
       "  </thead>\n",
       "  <tbody>\n",
       "    <tr>\n",
       "      <th>1</th>\n",
       "      <td>10.0</td>\n",
       "      <td>10.0</td>\n",
       "      <td>SUV</td>\n",
       "      <td>8.0</td>\n",
       "      <td>Automatic Transmission</td>\n",
       "      <td>450.0</td>\n",
       "      <td>Left Hand Side</td>\n",
       "      <td>2018.0</td>\n",
       "      <td>chevrolet</td>\n",
       "      <td>29942.0</td>\n",
       "      <td>24230.7</td>\n",
       "    </tr>\n",
       "    <tr>\n",
       "      <th>2</th>\n",
       "      <td>10.0</td>\n",
       "      <td>10.0</td>\n",
       "      <td>Sedan</td>\n",
       "      <td>6.0</td>\n",
       "      <td>Automatic Transmission</td>\n",
       "      <td>450.0</td>\n",
       "      <td>Left Hand Side</td>\n",
       "      <td>2014.0</td>\n",
       "      <td>mercedes-benz</td>\n",
       "      <td>21231.6</td>\n",
       "      <td>124260.0</td>\n",
       "    </tr>\n",
       "    <tr>\n",
       "      <th>3</th>\n",
       "      <td>10.0</td>\n",
       "      <td>10.0</td>\n",
       "      <td>Hard Top Convertible</td>\n",
       "      <td>8.0</td>\n",
       "      <td>Automatic Transmission</td>\n",
       "      <td>650.0</td>\n",
       "      <td>Left Hand Side</td>\n",
       "      <td>2018.0</td>\n",
       "      <td>ferrari</td>\n",
       "      <td>244707.8</td>\n",
       "      <td>16775.1</td>\n",
       "    </tr>\n",
       "    <tr>\n",
       "      <th>4</th>\n",
       "      <td>10.0</td>\n",
       "      <td>10.0</td>\n",
       "      <td>Wagon</td>\n",
       "      <td>4.0</td>\n",
       "      <td>Manual Transmission</td>\n",
       "      <td>125.0</td>\n",
       "      <td>Left Hand Side</td>\n",
       "      <td>2020.0</td>\n",
       "      <td>renault</td>\n",
       "      <td>8982.6</td>\n",
       "      <td>42869.7</td>\n",
       "    </tr>\n",
       "    <tr>\n",
       "      <th>5</th>\n",
       "      <td>10.0</td>\n",
       "      <td>10.0</td>\n",
       "      <td>Sedan</td>\n",
       "      <td>6.0</td>\n",
       "      <td>Automatic Transmission</td>\n",
       "      <td>250.0</td>\n",
       "      <td>Left Hand Side</td>\n",
       "      <td>2015.0</td>\n",
       "      <td>audi</td>\n",
       "      <td>26675.6</td>\n",
       "      <td>52189.2</td>\n",
       "    </tr>\n",
       "  </tbody>\n",
       "</table>\n",
       "</div>"
      ],
      "text/plain": [
       "   body_condition  mechanical_condition             body_type  \\\n",
       "1            10.0                  10.0                   SUV   \n",
       "2            10.0                  10.0                 Sedan   \n",
       "3            10.0                  10.0  Hard Top Convertible   \n",
       "4            10.0                  10.0                 Wagon   \n",
       "5            10.0                  10.0                 Sedan   \n",
       "\n",
       "   no_of_cylinders       transmission_type  horsepower   steering_side  \\\n",
       "1              8.0  Automatic Transmission       450.0  Left Hand Side   \n",
       "2              6.0  Automatic Transmission       450.0  Left Hand Side   \n",
       "3              8.0  Automatic Transmission       650.0  Left Hand Side   \n",
       "4              4.0     Manual Transmission       125.0  Left Hand Side   \n",
       "5              6.0  Automatic Transmission       250.0  Left Hand Side   \n",
       "\n",
       "     year        company  Price_USD   Mileage  \n",
       "1  2018.0      chevrolet    29942.0   24230.7  \n",
       "2  2014.0  mercedes-benz    21231.6  124260.0  \n",
       "3  2018.0        ferrari   244707.8   16775.1  \n",
       "4  2020.0        renault     8982.6   42869.7  \n",
       "5  2015.0           audi    26675.6   52189.2  "
      ]
     },
     "execution_count": 144,
     "metadata": {},
     "output_type": "execute_result"
    }
   ],
   "source": [
    "data.head()"
   ]
  },
  {
   "cell_type": "markdown",
   "id": "4010b07f-faea-4fde-92f2-de857b1769bb",
   "metadata": {},
   "source": [
    "# Steering side column"
   ]
  },
  {
   "cell_type": "code",
   "execution_count": 145,
   "id": "d2b038d1-6f10-4342-9a92-0d451b29e443",
   "metadata": {},
   "outputs": [
    {
     "data": {
      "text/plain": [
       "steering_side\n",
       "Left Hand Side     7363\n",
       "Right Hand Side       2\n",
       "Name: count, dtype: int64"
      ]
     },
     "execution_count": 145,
     "metadata": {},
     "output_type": "execute_result"
    }
   ],
   "source": [
    "data['steering_side'].value_counts()"
   ]
  },
  {
   "cell_type": "code",
   "execution_count": 146,
   "id": "431e0cbb-452d-46db-8ea1-aa43aaa69249",
   "metadata": {},
   "outputs": [],
   "source": [
    "data.drop(columns = ['steering_side'], inplace = True)"
   ]
  },
  {
   "cell_type": "code",
   "execution_count": 147,
   "id": "186c6c4b-4b17-4731-a059-bc62f05b172f",
   "metadata": {},
   "outputs": [],
   "source": [
    "#data['company'].value_counts()"
   ]
  },
  {
   "cell_type": "markdown",
   "id": "87d77ca8-0c27-4c7e-89ff-d4d1e672e36b",
   "metadata": {},
   "source": [
    "# Transmission column"
   ]
  },
  {
   "cell_type": "code",
   "execution_count": 148,
   "id": "41e32d8e-8cd7-4398-b976-29cab34f7ec3",
   "metadata": {},
   "outputs": [
    {
     "data": {
      "text/plain": [
       "transmission_type\n",
       "Automatic Transmission    7092\n",
       "Manual Transmission        273\n",
       "Name: count, dtype: int64"
      ]
     },
     "execution_count": 148,
     "metadata": {},
     "output_type": "execute_result"
    }
   ],
   "source": [
    "data['transmission_type'].value_counts()"
   ]
  },
  {
   "cell_type": "code",
   "execution_count": 149,
   "id": "a99c2256-0c0f-4c38-b14e-4da0fba5e69f",
   "metadata": {},
   "outputs": [],
   "source": [
    "map_tranny = {'Automatic Transmission': 1, 'Manual Transmission': 0}\n",
    "data['transmission_type'] = data['transmission_type'].map(map_tranny)\n",
    "data['transmission_type']  =data['transmission_type'].astype(float)"
   ]
  },
  {
   "cell_type": "code",
   "execution_count": 150,
   "id": "6f6fa99f-cd2c-466f-8c6e-1848f9766177",
   "metadata": {},
   "outputs": [
    {
     "data": {
      "text/plain": [
       "body_type\n",
       "SUV                     3250\n",
       "Sedan                   2172\n",
       "Coupe                    618\n",
       "Pick Up Truck            307\n",
       "Hatchback                302\n",
       "Sports Car               186\n",
       "Van                      136\n",
       "Hard Top Convertible     114\n",
       "Soft Top Convertible      95\n",
       "Crossover                 72\n",
       "Other                     57\n",
       "Wagon                     39\n",
       "Utility Truck             17\n",
       "Name: count, dtype: int64"
      ]
     },
     "execution_count": 150,
     "metadata": {},
     "output_type": "execute_result"
    }
   ],
   "source": [
    "data['body_type'].value_counts()"
   ]
  },
  {
   "cell_type": "code",
   "execution_count": 151,
   "id": "5d76194b-4ed0-469c-ae16-f107a3c84b0c",
   "metadata": {},
   "outputs": [
    {
     "data": {
      "text/html": [
       "<div>\n",
       "<style scoped>\n",
       "    .dataframe tbody tr th:only-of-type {\n",
       "        vertical-align: middle;\n",
       "    }\n",
       "\n",
       "    .dataframe tbody tr th {\n",
       "        vertical-align: top;\n",
       "    }\n",
       "\n",
       "    .dataframe thead th {\n",
       "        text-align: right;\n",
       "    }\n",
       "</style>\n",
       "<table border=\"1\" class=\"dataframe\">\n",
       "  <thead>\n",
       "    <tr style=\"text-align: right;\">\n",
       "      <th></th>\n",
       "      <th>body_condition</th>\n",
       "      <th>mechanical_condition</th>\n",
       "      <th>body_type</th>\n",
       "      <th>no_of_cylinders</th>\n",
       "      <th>transmission_type</th>\n",
       "      <th>horsepower</th>\n",
       "      <th>year</th>\n",
       "      <th>company</th>\n",
       "      <th>Price_USD</th>\n",
       "      <th>Mileage</th>\n",
       "    </tr>\n",
       "  </thead>\n",
       "  <tbody>\n",
       "    <tr>\n",
       "      <th>1</th>\n",
       "      <td>10.0</td>\n",
       "      <td>10.0</td>\n",
       "      <td>SUV</td>\n",
       "      <td>8.0</td>\n",
       "      <td>1.0</td>\n",
       "      <td>450.0</td>\n",
       "      <td>2018.0</td>\n",
       "      <td>chevrolet</td>\n",
       "      <td>29942.0</td>\n",
       "      <td>24230.7</td>\n",
       "    </tr>\n",
       "    <tr>\n",
       "      <th>2</th>\n",
       "      <td>10.0</td>\n",
       "      <td>10.0</td>\n",
       "      <td>Sedan</td>\n",
       "      <td>6.0</td>\n",
       "      <td>1.0</td>\n",
       "      <td>450.0</td>\n",
       "      <td>2014.0</td>\n",
       "      <td>mercedes-benz</td>\n",
       "      <td>21231.6</td>\n",
       "      <td>124260.0</td>\n",
       "    </tr>\n",
       "    <tr>\n",
       "      <th>3</th>\n",
       "      <td>10.0</td>\n",
       "      <td>10.0</td>\n",
       "      <td>Hard Top Convertible</td>\n",
       "      <td>8.0</td>\n",
       "      <td>1.0</td>\n",
       "      <td>650.0</td>\n",
       "      <td>2018.0</td>\n",
       "      <td>ferrari</td>\n",
       "      <td>244707.8</td>\n",
       "      <td>16775.1</td>\n",
       "    </tr>\n",
       "    <tr>\n",
       "      <th>4</th>\n",
       "      <td>10.0</td>\n",
       "      <td>10.0</td>\n",
       "      <td>Wagon</td>\n",
       "      <td>4.0</td>\n",
       "      <td>0.0</td>\n",
       "      <td>125.0</td>\n",
       "      <td>2020.0</td>\n",
       "      <td>renault</td>\n",
       "      <td>8982.6</td>\n",
       "      <td>42869.7</td>\n",
       "    </tr>\n",
       "    <tr>\n",
       "      <th>5</th>\n",
       "      <td>10.0</td>\n",
       "      <td>10.0</td>\n",
       "      <td>Sedan</td>\n",
       "      <td>6.0</td>\n",
       "      <td>1.0</td>\n",
       "      <td>250.0</td>\n",
       "      <td>2015.0</td>\n",
       "      <td>audi</td>\n",
       "      <td>26675.6</td>\n",
       "      <td>52189.2</td>\n",
       "    </tr>\n",
       "  </tbody>\n",
       "</table>\n",
       "</div>"
      ],
      "text/plain": [
       "   body_condition  mechanical_condition             body_type  \\\n",
       "1            10.0                  10.0                   SUV   \n",
       "2            10.0                  10.0                 Sedan   \n",
       "3            10.0                  10.0  Hard Top Convertible   \n",
       "4            10.0                  10.0                 Wagon   \n",
       "5            10.0                  10.0                 Sedan   \n",
       "\n",
       "   no_of_cylinders  transmission_type  horsepower    year        company  \\\n",
       "1              8.0                1.0       450.0  2018.0      chevrolet   \n",
       "2              6.0                1.0       450.0  2014.0  mercedes-benz   \n",
       "3              8.0                1.0       650.0  2018.0        ferrari   \n",
       "4              4.0                0.0       125.0  2020.0        renault   \n",
       "5              6.0                1.0       250.0  2015.0           audi   \n",
       "\n",
       "   Price_USD   Mileage  \n",
       "1    29942.0   24230.7  \n",
       "2    21231.6  124260.0  \n",
       "3   244707.8   16775.1  \n",
       "4     8982.6   42869.7  \n",
       "5    26675.6   52189.2  "
      ]
     },
     "execution_count": 151,
     "metadata": {},
     "output_type": "execute_result"
    }
   ],
   "source": [
    "data.head()"
   ]
  },
  {
   "cell_type": "code",
   "execution_count": 152,
   "id": "82c4a3ce-e212-4847-bcdd-8187e797edd8",
   "metadata": {},
   "outputs": [
    {
     "name": "stdout",
     "output_type": "stream",
     "text": [
      "<class 'pandas.core.frame.DataFrame'>\n",
      "Index: 7365 entries, 1 to 9969\n",
      "Data columns (total 10 columns):\n",
      " #   Column                Non-Null Count  Dtype  \n",
      "---  ------                --------------  -----  \n",
      " 0   body_condition        7365 non-null   float64\n",
      " 1   mechanical_condition  7365 non-null   float64\n",
      " 2   body_type             7365 non-null   object \n",
      " 3   no_of_cylinders       7365 non-null   float64\n",
      " 4   transmission_type     7365 non-null   float64\n",
      " 5   horsepower            7365 non-null   float64\n",
      " 6   year                  7365 non-null   float64\n",
      " 7   company               7365 non-null   object \n",
      " 8   Price_USD             7365 non-null   float64\n",
      " 9   Mileage               7365 non-null   float64\n",
      "dtypes: float64(8), object(2)\n",
      "memory usage: 632.9+ KB\n"
     ]
    }
   ],
   "source": [
    "data.info()"
   ]
  },
  {
   "cell_type": "markdown",
   "id": "52d35da2-fe9e-4ad1-ab8c-b204d29dd51f",
   "metadata": {},
   "source": [
    "# Outlier Treatment"
   ]
  },
  {
   "cell_type": "code",
   "execution_count": 153,
   "id": "59a6ba23-ed00-4de8-9079-fd76fba13195",
   "metadata": {},
   "outputs": [
    {
     "data": {
      "image/png": "[encoded data removed]",
      "text/plain": [
       "<Figure size 640x480 with 1 Axes>"
      ]
     },
     "metadata": {},
     "output_type": "display_data"
    }
   ],
   "source": [
    "plt.boxplot(data['Price_USD'])\n",
    "plt.show()"
   ]
  },
  {
   "cell_type": "code",
   "execution_count": 154,
   "id": "76eb55fc-76dd-4ebf-aa46-5a5161dab00a",
   "metadata": {},
   "outputs": [],
   "source": [
    "mask_price = data['Price_USD'] <= 500000\n",
    "data_1 = data[mask_price]\n"
   ]
  },
  {
   "cell_type": "code",
   "execution_count": 155,
   "id": "2b0ac239-2352-4f5a-8944-b0365e6061b3",
   "metadata": {},
   "outputs": [
    {
     "data": {
      "image/png": "[encoded data removed]",
      "text/plain": [
       "<Figure size 640x480 with 1 Axes>"
      ]
     },
     "metadata": {},
     "output_type": "display_data"
    }
   ],
   "source": [
    "plt.boxplot(data_1['Price_USD'])\n",
    "plt.show()"
   ]
  },
  {
   "cell_type": "code",
   "execution_count": 156,
   "id": "e16309f4-74a4-4884-8696-9812e586e657",
   "metadata": {},
   "outputs": [
    {
     "data": {
      "image/png": "[encoded data removed]",
      "text/plain": [
       "<Figure size 640x480 with 1 Axes>"
      ]
     },
     "metadata": {},
     "output_type": "display_data"
    }
   ],
   "source": [
    "plt.boxplot(data_1['Mileage'])\n",
    "plt.show()"
   ]
  },
  {
   "cell_type": "code",
   "execution_count": 157,
   "id": "b2b3c6d3-7abb-4995-8e3a-9afbf17bb267",
   "metadata": {},
   "outputs": [
    {
     "data": {
      "image/png": "[encoded data removed]",
      "text/plain": [
       "<Figure size 640x480 with 1 Axes>"
      ]
     },
     "metadata": {},
     "output_type": "display_data"
    }
   ],
   "source": [
    "plt.hist(data_1['Mileage'])\n",
    "plt.show()"
   ]
  },
  {
   "cell_type": "code",
   "execution_count": 158,
   "id": "e18bdcdc-3d9f-4a9d-a0ad-1cde7fbe3e15",
   "metadata": {},
   "outputs": [],
   "source": [
    "mask_mileage = data_1['Mileage'] <= 100000\n",
    "data_2 = data_1[mask_mileage]\n"
   ]
  },
  {
   "cell_type": "code",
   "execution_count": 159,
   "id": "34d7aba5-2992-44d7-bad5-b207132d7cec",
   "metadata": {},
   "outputs": [
    {
     "data": {
      "image/png": "[encoded data removed]",
      "text/plain": [
       "<Figure size 640x480 with 1 Axes>"
      ]
     },
     "metadata": {},
     "output_type": "display_data"
    }
   ],
   "source": [
    "plt.boxplot(data_2['Mileage'])\n",
    "plt.show()"
   ]
  },
  {
   "cell_type": "code",
   "execution_count": 160,
   "id": "3eb833c1-533c-42da-9040-4b5f94af8833",
   "metadata": {},
   "outputs": [
    {
     "name": "stdout",
     "output_type": "stream",
     "text": [
      "<class 'pandas.core.frame.DataFrame'>\n",
      "Index: 6031 entries, 1 to 9969\n",
      "Data columns (total 10 columns):\n",
      " #   Column                Non-Null Count  Dtype  \n",
      "---  ------                --------------  -----  \n",
      " 0   body_condition        6031 non-null   float64\n",
      " 1   mechanical_condition  6031 non-null   float64\n",
      " 2   body_type             6031 non-null   object \n",
      " 3   no_of_cylinders       6031 non-null   float64\n",
      " 4   transmission_type     6031 non-null   float64\n",
      " 5   horsepower            6031 non-null   float64\n",
      " 6   year                  6031 non-null   float64\n",
      " 7   company               6031 non-null   object \n",
      " 8   Price_USD             6031 non-null   float64\n",
      " 9   Mileage               6031 non-null   float64\n",
      "dtypes: float64(8), object(2)\n",
      "memory usage: 518.3+ KB\n"
     ]
    }
   ],
   "source": [
    "data_2.info()"
   ]
  },
  {
   "cell_type": "code",
   "execution_count": 161,
   "id": "1b58711e-60c5-4308-9c27-55f97e331196",
   "metadata": {},
   "outputs": [],
   "source": [
    "data_2.reset_index(inplace= True, drop = True)"
   ]
  },
  {
   "cell_type": "code",
   "execution_count": 162,
   "id": "45b59833-69a3-43cf-8cd6-974b9bbf7209",
   "metadata": {},
   "outputs": [
    {
     "data": {
      "text/html": [
       "<div>\n",
       "<style scoped>\n",
       "    .dataframe tbody tr th:only-of-type {\n",
       "        vertical-align: middle;\n",
       "    }\n",
       "\n",
       "    .dataframe tbody tr th {\n",
       "        vertical-align: top;\n",
       "    }\n",
       "\n",
       "    .dataframe thead th {\n",
       "        text-align: right;\n",
       "    }\n",
       "</style>\n",
       "<table border=\"1\" class=\"dataframe\">\n",
       "  <thead>\n",
       "    <tr style=\"text-align: right;\">\n",
       "      <th></th>\n",
       "      <th>body_condition</th>\n",
       "      <th>mechanical_condition</th>\n",
       "      <th>body_type</th>\n",
       "      <th>no_of_cylinders</th>\n",
       "      <th>transmission_type</th>\n",
       "      <th>horsepower</th>\n",
       "      <th>year</th>\n",
       "      <th>company</th>\n",
       "      <th>Price_USD</th>\n",
       "      <th>Mileage</th>\n",
       "    </tr>\n",
       "  </thead>\n",
       "  <tbody>\n",
       "    <tr>\n",
       "      <th>1</th>\n",
       "      <td>10.0</td>\n",
       "      <td>10.0</td>\n",
       "      <td>SUV</td>\n",
       "      <td>8.0</td>\n",
       "      <td>1.0</td>\n",
       "      <td>450.0</td>\n",
       "      <td>2018.0</td>\n",
       "      <td>chevrolet</td>\n",
       "      <td>29942.0</td>\n",
       "      <td>24230.7</td>\n",
       "    </tr>\n",
       "    <tr>\n",
       "      <th>2</th>\n",
       "      <td>10.0</td>\n",
       "      <td>10.0</td>\n",
       "      <td>Sedan</td>\n",
       "      <td>6.0</td>\n",
       "      <td>1.0</td>\n",
       "      <td>450.0</td>\n",
       "      <td>2014.0</td>\n",
       "      <td>mercedes-benz</td>\n",
       "      <td>21231.6</td>\n",
       "      <td>124260.0</td>\n",
       "    </tr>\n",
       "  </tbody>\n",
       "</table>\n",
       "</div>"
      ],
      "text/plain": [
       "   body_condition  mechanical_condition body_type  no_of_cylinders  \\\n",
       "1            10.0                  10.0       SUV              8.0   \n",
       "2            10.0                  10.0     Sedan              6.0   \n",
       "\n",
       "   transmission_type  horsepower    year        company  Price_USD   Mileage  \n",
       "1                1.0       450.0  2018.0      chevrolet    29942.0   24230.7  \n",
       "2                1.0       450.0  2014.0  mercedes-benz    21231.6  124260.0  "
      ]
     },
     "execution_count": 162,
     "metadata": {},
     "output_type": "execute_result"
    }
   ],
   "source": [
    "data.head(2)"
   ]
  },
  {
   "cell_type": "markdown",
   "id": "1fff3e59-88f8-421b-a854-316ab588ff01",
   "metadata": {},
   "source": [
    "# Feature Scaling"
   ]
  },
  {
   "cell_type": "code",
   "execution_count": 163,
   "id": "deef34af-ee79-471e-b0e4-5483a30b1b4a",
   "metadata": {},
   "outputs": [
    {
     "data": {
      "text/plain": [
       "Index(['body_condition', 'mechanical_condition', 'body_type',\n",
       "       'no_of_cylinders', 'transmission_type', 'horsepower', 'year', 'company',\n",
       "       'Price_USD', 'Mileage'],\n",
       "      dtype='object')"
      ]
     },
     "execution_count": 163,
     "metadata": {},
     "output_type": "execute_result"
    }
   ],
   "source": [
    "data_2.columns"
   ]
  },
  {
   "cell_type": "code",
   "execution_count": 164,
   "id": "589a9f1d-8956-4cac-9e64-4258a64bb337",
   "metadata": {},
   "outputs": [
    {
     "name": "stdout",
     "output_type": "stream",
     "text": [
      "<class 'pandas.core.frame.DataFrame'>\n",
      "RangeIndex: 6031 entries, 0 to 6030\n",
      "Data columns (total 10 columns):\n",
      " #   Column                Non-Null Count  Dtype  \n",
      "---  ------                --------------  -----  \n",
      " 0   body_condition        6031 non-null   float64\n",
      " 1   mechanical_condition  6031 non-null   float64\n",
      " 2   body_type             6031 non-null   object \n",
      " 3   no_of_cylinders       6031 non-null   float64\n",
      " 4   transmission_type     6031 non-null   float64\n",
      " 5   horsepower            6031 non-null   float64\n",
      " 6   year                  6031 non-null   float64\n",
      " 7   company               6031 non-null   object \n",
      " 8   Price_USD             6031 non-null   float64\n",
      " 9   Mileage               6031 non-null   float64\n",
      "dtypes: float64(8), object(2)\n",
      "memory usage: 471.3+ KB\n"
     ]
    }
   ],
   "source": [
    "data_2.info()"
   ]
  },
  {
   "cell_type": "code",
   "execution_count": 165,
   "id": "015c8205-dd8e-46aa-be96-e6f4e73a7613",
   "metadata": {},
   "outputs": [
    {
     "data": {
      "text/plain": [
       "body_condition          0\n",
       "mechanical_condition    0\n",
       "body_type               0\n",
       "no_of_cylinders         0\n",
       "transmission_type       0\n",
       "horsepower              0\n",
       "year                    0\n",
       "company                 0\n",
       "Price_USD               0\n",
       "Mileage                 0\n",
       "dtype: int64"
      ]
     },
     "execution_count": 165,
     "metadata": {},
     "output_type": "execute_result"
    }
   ],
   "source": [
    "data_2.isna().sum()"
   ]
  },
  {
   "cell_type": "code",
   "execution_count": 166,
   "id": "3f5e9dd5-1fe1-4393-b665-07f4eb837005",
   "metadata": {},
   "outputs": [],
   "source": [
    "numerical_columns = ['body_condition', 'mechanical_condition', 'no_of_cylinders', 'transmission_type', 'horsepower', 'year', 'Price_USD', 'Mileage']"
   ]
  },
  {
   "cell_type": "code",
   "execution_count": 167,
   "id": "d7fc47bb-4c74-4562-963f-3819d136a0e8",
   "metadata": {},
   "outputs": [
    {
     "data": {
      "text/plain": [
       "array([[2.59244433e-04, 2.59244433e-04, 2.07395547e-04, ...,\n",
       "        5.23155266e-02, 7.76229682e-01, 6.28167409e-01],\n",
       "       [4.07678596e-05, 4.07678596e-05, 3.26142877e-05, ...,\n",
       "        8.22695407e-03, 9.97621323e-01, 6.83884922e-02],\n",
       "       [2.28063692e-04, 2.28063692e-04, 9.12254766e-05, ...,\n",
       "        4.60688657e-02, 2.04860492e-01, 9.77702204e-01],\n",
       "       ...,\n",
       "       [2.35739205e-04, 2.35739205e-04, 1.88591364e-04, ...,\n",
       "        4.74778760e-02, 5.77513905e-01, 8.14929971e-01],\n",
       "       [6.88409451e-05, 1.14734909e-04, 4.58939634e-05, ...,\n",
       "        2.30961371e-02, 5.90262916e-02, 9.97987181e-01],\n",
       "       [1.73909306e-04, 1.73909306e-04, 1.04345583e-04, ...,\n",
       "        3.50079433e-02, 3.67817138e-01, 9.29228725e-01]])"
      ]
     },
     "execution_count": 167,
     "metadata": {},
     "output_type": "execute_result"
    }
   ],
   "source": [
    "scaler= Normalizer()\n",
    "scaler.fit_transform(data_2[numerical_columns])"
   ]
  },
  {
   "cell_type": "code",
   "execution_count": 169,
   "id": "80c89bc6-710a-4ec5-a1c7-d536898d8c86",
   "metadata": {},
   "outputs": [],
   "source": [
    "data_scaled = pd.DataFrame(scaler.fit_transform(data_2[numerical_columns]), columns= numerical_columns)"
   ]
  },
  {
   "cell_type": "code",
   "execution_count": 173,
   "id": "cf54cecb-4789-4437-8e7f-161f841bfba8",
   "metadata": {},
   "outputs": [],
   "source": [
    "data_clean = pd.concat([data_scaled, data_2['body_type'], data_2['company']], axis = 1)"
   ]
  },
  {
   "cell_type": "code",
   "execution_count": null,
   "id": "71199202-7637-4772-9823-278dc5bb0892",
   "metadata": {},
   "outputs": [],
   "source": []
  },
  {
   "cell_type": "code",
   "execution_count": null,
   "id": "5c7c1245-2a06-41de-9c98-b8cb287f9299",
   "metadata": {},
   "outputs": [],
   "source": []
  },
  {
   "cell_type": "markdown",
   "id": "ac63b268-9e96-4e46-8758-e5eeda080474",
   "metadata": {},
   "source": [
    "# One hot encoding: Categorical columns"
   ]
  },
  {
   "cell_type": "code",
   "execution_count": 174,
   "id": "c7235132-2312-4aae-8f6a-ea9875b54b4f",
   "metadata": {},
   "outputs": [],
   "source": [
    "data_body_type = pd.get_dummies(data_clean['body_type'], dtype = int, drop_first= True)"
   ]
  },
  {
   "cell_type": "code",
   "execution_count": 175,
   "id": "dec5e2b8-165f-4000-b63f-c5fd9302e02a",
   "metadata": {},
   "outputs": [],
   "source": [
    "data_company = pd.get_dummies(data_clean['company'], dtype = int, drop_first= True)"
   ]
  },
  {
   "cell_type": "code",
   "execution_count": 177,
   "id": "e1bc29fc-5d62-4e5b-86af-ab80768d7c41",
   "metadata": {},
   "outputs": [],
   "source": [
    "data_clean.drop(columns = ['body_type', 'company'], inplace = True)"
   ]
  },
  {
   "cell_type": "code",
   "execution_count": 179,
   "id": "c6d47834-7133-403a-90c2-05de6d11940c",
   "metadata": {},
   "outputs": [],
   "source": [
    "data_one_hot_encoded = pd.concat([data_clean, data_body_type, data_company], axis = 1)"
   ]
  },
  {
   "cell_type": "code",
   "execution_count": 1,
   "id": "856a98f0-1423-4675-9cfa-44e278ed10da",
   "metadata": {},
   "outputs": [],
   "source": [
    "#data_one_hot_encoded"
   ]
  },
  {
   "cell_type": "code",
   "execution_count": 2,
   "id": "9752c42c-cd63-4d38-bfbc-8bb0e0faffaf",
   "metadata": {},
   "outputs": [],
   "source": [
    "#data_clean.corr()"
   ]
  },
  {
   "cell_type": "code",
   "execution_count": null,
   "id": "e209bce5-faeb-4f1a-bbe5-ffee912dfaa6",
   "metadata": {},
   "outputs": [],
   "source": []
  }
 ],
 "metadata": {
  "kernelspec": {
   "display_name": "Python 3 (ipykernel)",
   "language": "python",
   "name": "python3"
  },
  "language_info": {
   "codemirror_mode": {
    "name": "ipython",
    "version": 3
   },
   "file_extension": ".py",
   "mimetype": "text/x-python",
   "name": "python",
   "nbconvert_exporter": "python",
   "pygments_lexer": "ipython3",
   "version": "3.11.7"
  }
 },
 "nbformat": 4,
 "nbformat_minor": 5
}
