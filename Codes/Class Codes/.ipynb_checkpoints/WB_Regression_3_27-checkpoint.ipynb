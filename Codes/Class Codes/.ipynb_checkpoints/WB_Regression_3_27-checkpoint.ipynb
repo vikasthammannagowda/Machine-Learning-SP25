{
 "cells": [
  {
   "cell_type": "code",
   "execution_count": 1,
   "id": "954bd07d-6b5a-44cb-a654-46e9f5d00d35",
   "metadata": {},
   "outputs": [],
   "source": [
    "import numpy as np\n",
    "import pandas as pd\n",
    "import seaborn as sns\n",
    "import matplotlib.pyplot as plt\n",
    "\n",
    "\n",
    "import warnings\n",
    "warnings.filterwarnings('ignore')\n",
    "\n",
    "\n",
    "from sklearn.linear_model import LinearRegression\n",
    "from sklearn.model_selection import train_test_split \n",
    "from sklearn import metrics\n",
    "from sklearn.preprocessing import StandardScaler\n",
    "from sklearn.decomposition import PCA\n"
   ]
  },
  {
   "cell_type": "code",
   "execution_count": 2,
   "id": "de16bf41-d7d5-44fd-8c1d-dee08bc9aee3",
   "metadata": {},
   "outputs": [
    {
     "data": {
      "text/html": [
       "<div>\n",
       "<style scoped>\n",
       "    .dataframe tbody tr th:only-of-type {\n",
       "        vertical-align: middle;\n",
       "    }\n",
       "\n",
       "    .dataframe tbody tr th {\n",
       "        vertical-align: top;\n",
       "    }\n",
       "\n",
       "    .dataframe thead th {\n",
       "        text-align: right;\n",
       "    }\n",
       "</style>\n",
       "<table border=\"1\" class=\"dataframe\">\n",
       "  <thead>\n",
       "    <tr style=\"text-align: right;\">\n",
       "      <th></th>\n",
       "      <th>TV</th>\n",
       "      <th>Radio</th>\n",
       "      <th>Newspaper</th>\n",
       "      <th>Sales</th>\n",
       "    </tr>\n",
       "  </thead>\n",
       "  <tbody>\n",
       "    <tr>\n",
       "      <th>0</th>\n",
       "      <td>230.1</td>\n",
       "      <td>37.8</td>\n",
       "      <td>69.2</td>\n",
       "      <td>22.1</td>\n",
       "    </tr>\n",
       "    <tr>\n",
       "      <th>1</th>\n",
       "      <td>44.5</td>\n",
       "      <td>39.3</td>\n",
       "      <td>45.1</td>\n",
       "      <td>10.4</td>\n",
       "    </tr>\n",
       "    <tr>\n",
       "      <th>2</th>\n",
       "      <td>17.2</td>\n",
       "      <td>45.9</td>\n",
       "      <td>69.3</td>\n",
       "      <td>12.0</td>\n",
       "    </tr>\n",
       "    <tr>\n",
       "      <th>3</th>\n",
       "      <td>151.5</td>\n",
       "      <td>41.3</td>\n",
       "      <td>58.5</td>\n",
       "      <td>16.5</td>\n",
       "    </tr>\n",
       "    <tr>\n",
       "      <th>4</th>\n",
       "      <td>180.8</td>\n",
       "      <td>10.8</td>\n",
       "      <td>58.4</td>\n",
       "      <td>17.9</td>\n",
       "    </tr>\n",
       "  </tbody>\n",
       "</table>\n",
       "</div>"
      ],
      "text/plain": [
       "      TV  Radio  Newspaper  Sales\n",
       "0  230.1   37.8       69.2   22.1\n",
       "1   44.5   39.3       45.1   10.4\n",
       "2   17.2   45.9       69.3   12.0\n",
       "3  151.5   41.3       58.5   16.5\n",
       "4  180.8   10.8       58.4   17.9"
      ]
     },
     "execution_count": 2,
     "metadata": {},
     "output_type": "execute_result"
    }
   ],
   "source": [
    "data = pd.read_csv('advertising.csv')\n",
    "data.head()"
   ]
  },
  {
   "cell_type": "code",
   "execution_count": 3,
   "id": "46ce43c9-40ed-4e31-877e-e3bea196bd38",
   "metadata": {},
   "outputs": [
    {
     "data": {
      "text/html": [
       "<div>\n",
       "<style scoped>\n",
       "    .dataframe tbody tr th:only-of-type {\n",
       "        vertical-align: middle;\n",
       "    }\n",
       "\n",
       "    .dataframe tbody tr th {\n",
       "        vertical-align: top;\n",
       "    }\n",
       "\n",
       "    .dataframe thead th {\n",
       "        text-align: right;\n",
       "    }\n",
       "</style>\n",
       "<table border=\"1\" class=\"dataframe\">\n",
       "  <thead>\n",
       "    <tr style=\"text-align: right;\">\n",
       "      <th></th>\n",
       "      <th>TV</th>\n",
       "      <th>Radio</th>\n",
       "      <th>Newspaper</th>\n",
       "      <th>Sales</th>\n",
       "    </tr>\n",
       "  </thead>\n",
       "  <tbody>\n",
       "    <tr>\n",
       "      <th>TV</th>\n",
       "      <td>1.000000</td>\n",
       "      <td>0.054809</td>\n",
       "      <td>0.056648</td>\n",
       "      <td>0.901208</td>\n",
       "    </tr>\n",
       "    <tr>\n",
       "      <th>Radio</th>\n",
       "      <td>0.054809</td>\n",
       "      <td>1.000000</td>\n",
       "      <td>0.354104</td>\n",
       "      <td>0.349631</td>\n",
       "    </tr>\n",
       "    <tr>\n",
       "      <th>Newspaper</th>\n",
       "      <td>0.056648</td>\n",
       "      <td>0.354104</td>\n",
       "      <td>1.000000</td>\n",
       "      <td>0.157960</td>\n",
       "    </tr>\n",
       "    <tr>\n",
       "      <th>Sales</th>\n",
       "      <td>0.901208</td>\n",
       "      <td>0.349631</td>\n",
       "      <td>0.157960</td>\n",
       "      <td>1.000000</td>\n",
       "    </tr>\n",
       "  </tbody>\n",
       "</table>\n",
       "</div>"
      ],
      "text/plain": [
       "                 TV     Radio  Newspaper     Sales\n",
       "TV         1.000000  0.054809   0.056648  0.901208\n",
       "Radio      0.054809  1.000000   0.354104  0.349631\n",
       "Newspaper  0.056648  0.354104   1.000000  0.157960\n",
       "Sales      0.901208  0.349631   0.157960  1.000000"
      ]
     },
     "execution_count": 3,
     "metadata": {},
     "output_type": "execute_result"
    }
   ],
   "source": [
    "data.corr()"
   ]
  },
  {
   "cell_type": "code",
   "execution_count": 4,
   "id": "e07ce88d-bdf6-4b10-a37a-23a443a33ab2",
   "metadata": {},
   "outputs": [
    {
     "name": "stdout",
     "output_type": "stream",
     "text": [
      "Slope: [0.05548294]\n",
      "Intercept: 7.007108428241851\n",
      "R-squared: 0.8134866044709264\n",
      "MSE: 6.101072906773964\n"
     ]
    },
    {
     "data": {
      "image/png": "[encoded data removed]",
      "text/plain": [
       "<Figure size 640x480 with 1 Axes>"
      ]
     },
     "metadata": {},
     "output_type": "display_data"
    }
   ],
   "source": [
    "# See TV and Sales\n",
    "x_independent = data[['TV']] # x must be a 2D data for SKLearn pd.DataFrame(data['TV'])\n",
    "y_dependent = data['Sales']\n",
    "\n",
    "X_train, X_test, Y_train, Y_test = train_test_split(x_independent, y_dependent, test_size=0.2, random_state= 42)\n",
    "\n",
    "my_regression = LinearRegression()\n",
    "my_regression.fit(X_train, Y_train)\n",
    "\n",
    "beta_1 = my_regression.coef_\n",
    "alpha_1  = my_regression.intercept_\n",
    "r_squared_1 = my_regression.score(X_train, Y_train)\n",
    "\n",
    "y_hat = my_regression.predict(X_test)\n",
    "mean_sq_err_1 = metrics.mean_squared_error(Y_test, y_hat)\n",
    "\n",
    "print(\"Slope:\", beta_1)\n",
    "print(\"Intercept:\", alpha_1)\n",
    "print(\"R-squared:\", r_squared_1)\n",
    "print(\"MSE:\", mean_sq_err_1)\n",
    "\n",
    "# Generate x values for the regression line\n",
    "x_range = np.linspace(X_train.min(), X_train.max(), 100)  # Create evenly spaced points\n",
    "y_range = beta_1 * x_range + alpha_1  # Compute corresponding y values\n",
    "\n",
    "# Plot the data points\n",
    "plt.scatter(X_train, Y_train, color='blue', label='Training Data')\n",
    "plt.scatter(X_test, Y_test, color='green', label='Test Data')\n",
    "\n",
    "# Plot the regression line\n",
    "plt.plot(x_range, y_range, color='red', linewidth=2, label=\"Regression Line\")\n",
    "\n",
    "# Labels and title\n",
    "plt.xlabel(\"TV Advertising Budget ($)\")\n",
    "plt.ylabel(\"Sales\")\n",
    "plt.title(\"TV Advertising vs Sales (Linear Regression)\")\n",
    "plt.legend()\n",
    "plt.show()"
   ]
  },
  {
   "cell_type": "code",
   "execution_count": 7,
   "id": "7b5a9d34-a72e-4cae-ae1f-bfc70e07d191",
   "metadata": {},
   "outputs": [
    {
     "name": "stdout",
     "output_type": "stream",
     "text": [
      "Slope: [4.66914684]\n",
      "Intercept: 15.33\n",
      "R-squared: 0.8134866044709264\n"
     ]
    }
   ],
   "source": [
    "# Repeat the above with Standard Scaler\n",
    "\n",
    "scaler = StandardScaler()\n",
    "X_train_scaled = scaler.fit_transform(X_train)\n",
    "X_test_scaled = scaler.transform(X_test)\n",
    "\n",
    "my_regression_std_scaler_1 = LinearRegression()\n",
    "my_regression_std_scaler_1.fit(X_train_scaled, Y_train)\n",
    "\n",
    "beta_scaled_1 = my_regression_std_scaler_1.coef_\n",
    "alpha_scaled_1 = my_regression_std_scaler_1.intercept_\n",
    "r_squared_scaled_1 = my_regression_std_scaler_1.score(X_train_scaled, Y_train)\n",
    "\n",
    "print(\"Slope:\", beta_scaled_1)\n",
    "print(\"Intercept:\", round(alpha_scaled_1,2))\n",
    "print(\"R-squared:\", r_squared_scaled_1)"
   ]
  },
  {
   "cell_type": "code",
   "execution_count": null,
   "id": "a3b3adf6-11a1-46da-bd8d-c5d3ebaa90d2",
   "metadata": {},
   "outputs": [],
   "source": []
  },
  {
   "cell_type": "markdown",
   "id": "7a5a8074-3003-4b33-b045-c683dbe3376b",
   "metadata": {},
   "source": [
    "1. Why Do We Fit on X_train Only?\n",
    "\n",
    "Fitting (fit_transform) computes the mean and standard deviation from X_train and then scales it.\n",
    "\n",
    "We want to ensure that the test set (X_test) is scaled using the same statistics from the training set.\n",
    "\n",
    "This ensures that the model generalizes well to unseen data.\n",
    "\n",
    "2. Why Do We Not Fit on X_test?\n",
    "\n",
    "If we also fit the scaler separately on X_test, it would compute a different mean and standard deviation, leading to different scales.\n",
    "\n",
    "This would invalidate the model, as it was trained on data standardized using X_train's statistics.\n",
    "\n",
    "Instead, we only transform X_test using the parameters (mean & standard deviation) learned from X_train."
   ]
  },
  {
   "cell_type": "code",
   "execution_count": 6,
   "id": "7024b909-adad-45ac-a879-a90c4db356db",
   "metadata": {},
   "outputs": [],
   "source": [
    "from sklearn.ensemble import RandomForestRegressor"
   ]
  },
  {
   "cell_type": "code",
   "execution_count": 8,
   "id": "8bae6ef6-1661-402d-894a-6f5f52a35d64",
   "metadata": {},
   "outputs": [
    {
     "name": "stdout",
     "output_type": "stream",
     "text": [
      "R-Squared:  0.95736503535541\n",
      "Mean Squared Error: 5.104966662624999\n"
     ]
    }
   ],
   "source": [
    "forest = RandomForestRegressor()\n",
    "#Fit the model\n",
    "forest.fit(X_train_scaled, Y_train)\n",
    "#Calculating metrics\n",
    "r_squared_RF = forest.score(X_train_scaled, Y_train)\n",
    "print(\"R-Squared: \", r_squared_RF)\n",
    "\n",
    "y_hat_RF = forest.predict(X_test_scaled)\n",
    "mean_sq_err = metrics.mean_squared_error(Y_test, y_hat_RF)\n",
    "print(\"Mean Squared Error:\", mean_sq_err)"
   ]
  },
  {
   "cell_type": "code",
   "execution_count": 10,
   "id": "18b61c2b-3197-4f4f-9419-c8ca74973d16",
   "metadata": {},
   "outputs": [],
   "source": [
    "# forest.coef_"
   ]
  },
  {
   "cell_type": "code",
   "execution_count": 13,
   "id": "bbcc2384-0941-436e-a5c0-44a9e0b4747f",
   "metadata": {},
   "outputs": [
    {
     "name": "stdout",
     "output_type": "stream",
     "text": [
      "R-Squared:  0.8131134614350995\n",
      "Mean Squared Error: 6.112568105942902\n"
     ]
    }
   ],
   "source": [
    "from sklearn.linear_model import Lasso, Ridge, ElasticNet\n",
    "\n",
    "lasso_reg = Lasso(alpha=0.1)\n",
    "lasso_reg.fit(X_train_scaled, Y_train)\n",
    "#Calculating metrics\n",
    "r_squared_lasso = lasso_reg.score(X_train_scaled, Y_train)\n",
    "print(\"R-Squared: \", r_squared_lasso)\n",
    "\n",
    "y_hat_lasso = lasso_reg.predict(X_test_scaled)\n",
    "mean_sq_err_lasso = metrics.mean_squared_error(Y_test, y_hat_lasso)\n",
    "print(\"Mean Squared Error:\", mean_sq_err_lasso)"
   ]
  },
  {
   "cell_type": "markdown",
   "id": "33bcbc6e-f378-41d2-aa9d-cc55a0e08971",
   "metadata": {},
   "source": [
    "# Bias and Variance"
   ]
  },
  {
   "cell_type": "code",
   "execution_count": 14,
   "id": "5c68899b-6555-4bc1-8a46-c9d5b8a722b3",
   "metadata": {},
   "outputs": [
    {
     "name": "stdout",
     "output_type": "stream",
     "text": [
      "Bias in the predicted data using Lasso Regression (scaled data): 0.037049701789708844\n",
      "Variance in the predicted data using Lasso Regression (scaled data): 24.070360613001817\n"
     ]
    }
   ],
   "source": [
    "bias_lasso = (np.mean(y_hat_lasso) - np.mean(Y_test)) ** 2\n",
    "\n",
    "variance_lasso = np.var(y_hat_lasso)\n",
    "\n",
    "print(\"Bias in the predicted data using Lasso Regression (scaled data):\", bias_lasso)\n",
    "print(\"Variance in the predicted data using Lasso Regression (scaled data):\", variance_lasso)"
   ]
  },
  {
   "cell_type": "code",
   "execution_count": 16,
   "id": "f1156eed-eadd-4d14-a77b-1fd508707fd3",
   "metadata": {},
   "outputs": [],
   "source": [
    "#data.head()"
   ]
  },
  {
   "cell_type": "markdown",
   "id": "5e9a8db0-f52a-4da3-b913-8a79379406e0",
   "metadata": {},
   "source": [
    "# Multiple Linear Regression"
   ]
  },
  {
   "cell_type": "code",
   "execution_count": 19,
   "id": "65645e62-e1b0-46f2-96af-6cbb6d3317f1",
   "metadata": {},
   "outputs": [
    {
     "name": "stdout",
     "output_type": "stream",
     "text": [
      "Slope: [0.05450927 0.10094536 0.00433665]\n",
      "Intercept: 4.714126402214134\n",
      "R-squared: 0.9001416005862131\n",
      "MSE: 2.907756910271091\n"
     ]
    }
   ],
   "source": [
    "# See TV ,Radio, Newspaper v/s Sales\n",
    "x_independent = data[['TV', 'Radio', 'Newspaper']] \n",
    "y_dependent = data['Sales']\n",
    "\n",
    "X_train, X_test, Y_train, Y_test = train_test_split(x_independent, y_dependent, test_size=0.2, random_state= 42)\n",
    "\n",
    "my_MLregression = LinearRegression()\n",
    "my_MLregression.fit(X_train, Y_train)\n",
    "\n",
    "beta_mlr = my_MLregression.coef_\n",
    "alpha_mlr  = my_MLregression.intercept_\n",
    "r_squared_mlr = my_MLregression.score(X_train, Y_train)\n",
    "\n",
    "y_hat = my_MLregression.predict(X_test)\n",
    "mean_sq_err_MLR = metrics.mean_squared_error(Y_test, y_hat)\n",
    "\n",
    "print(\"Slope:\", beta_mlr)\n",
    "print(\"Intercept:\", alpha_mlr)\n",
    "print(\"R-squared:\", r_squared_mlr)\n",
    "print(\"MSE:\", mean_sq_err_MLR)\n"
   ]
  },
  {
   "cell_type": "code",
   "execution_count": null,
   "id": "9db4468b-983f-4dab-b31e-b08dad4dfab8",
   "metadata": {},
   "outputs": [],
   "source": []
  },
  {
   "cell_type": "markdown",
   "id": "9ae7518c-4ca4-4829-a3ba-ac20d281035b",
   "metadata": {},
   "source": [
    "# PCA"
   ]
  },
  {
   "cell_type": "code",
   "execution_count": 23,
   "id": "1d1bb473-e091-46f0-aadf-7e4e48bb1a82",
   "metadata": {},
   "outputs": [
    {
     "name": "stdout",
     "output_type": "stream",
     "text": [
      "R-squared after PCA (components = 3): 0.9001416005862131\n"
     ]
    }
   ],
   "source": [
    "# See TV ,Radio, Newspaper v/s Sales\n",
    "x_independent = data[['TV', 'Radio', 'Newspaper']] \n",
    "y_dependent = data['Sales']\n",
    "\n",
    "X_train, X_test, Y_train, Y_test = train_test_split(x_independent, y_dependent, test_size=0.2, random_state= 42)\n",
    "\n",
    "scaler = StandardScaler()\n",
    "X_train_scaled = scaler.fit_transform(X_train)\n",
    "X_test_scaled = scaler.transform(X_test)\n",
    "\n",
    "pca = PCA(n_components = 3)\n",
    "X_train_pca = pca.fit_transform(X_train_scaled)\n",
    "X_test_pca = pca.transform(X_test_scaled)\n",
    "\n",
    "\n",
    "my_regression_pca = LinearRegression()\n",
    "my_regression_pca.fit(X_train_pca, Y_train)\n",
    "\n",
    "r_squared_pca_1 = my_regression_pca.score(X_train_pca, Y_train)\n",
    "\n",
    "print(\"R-squared after PCA (components = 3):\", r_squared_pca_1)\n"
   ]
  },
  {
   "cell_type": "code",
   "execution_count": null,
   "id": "dd07e7dc-7536-4c7b-af80-5c85480cc890",
   "metadata": {},
   "outputs": [],
   "source": []
  }
 ],
 "metadata": {
  "kernelspec": {
   "display_name": "Python 3 (ipykernel)",
   "language": "python",
   "name": "python3"
  },
  "language_info": {
   "codemirror_mode": {
    "name": "ipython",
    "version": 3
   },
   "file_extension": ".py",
   "mimetype": "text/x-python",
   "name": "python",
   "nbconvert_exporter": "python",
   "pygments_lexer": "ipython3",
   "version": "3.11.7"
  }
 },
 "nbformat": 4,
 "nbformat_minor": 5
}
