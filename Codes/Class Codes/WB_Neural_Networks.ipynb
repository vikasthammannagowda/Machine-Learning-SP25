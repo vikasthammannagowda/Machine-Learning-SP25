{
 "cells": [
  {
   "cell_type": "code",
   "execution_count": 1,
   "id": "0f1c47fc-8c57-40a0-94b9-5ae8071436f3",
   "metadata": {},
   "outputs": [],
   "source": [
    "import numpy as np\n",
    "import pandas as pd\n",
    "import itertools"
   ]
  },
  {
   "cell_type": "code",
   "execution_count": 26,
   "id": "8d18d593-1c3a-4c08-9bec-cf7dc753c4aa",
   "metadata": {},
   "outputs": [],
   "source": [
    "class Perceptron:\n",
    "    def __init__(self, x_input, weights):\n",
    "\n",
    "        self.x_input = x_input\n",
    "        self.weights = weights\n",
    "        \n",
    "\n",
    "    def weighted_sum(self):\n",
    "        total = 0\n",
    "        for i in range(len(self.weights)):\n",
    "            total += self.x_input[i] * self.weights[i]\n",
    "        \n",
    "        return total\n",
    "\n",
    "    def simple_perceptron(self, threshold):\n",
    "        \n",
    "        total = self.weighted_sum() \n",
    "        if (total >= threshold):\n",
    "            return 1\n",
    "        else:\n",
    "            return 0\n",
    "    \n",
    "    def step_perceptron(self, bias):\n",
    "        \n",
    "        total = self.weighted_sum() + bias\n",
    "        if (total >= 0):\n",
    "            return 1\n",
    "        else:\n",
    "            return 0\n",
    "\n",
    "    \n"
   ]
  },
  {
   "cell_type": "code",
   "execution_count": 3,
   "id": "38687ed2-7d6c-4e8b-bad0-33cbd7634498",
   "metadata": {},
   "outputs": [
    {
     "name": "stdout",
     "output_type": "stream",
     "text": [
      "Perceptron Output: 1\n"
     ]
    }
   ],
   "source": [
    "x_input = [1, 0, 1] \n",
    "weights = [7, 4, 2]     \n",
    "threshold = 8         \n",
    "\n",
    "\n",
    "perceptron = Perceptron(x_input, weights)\n",
    "output = perceptron.simple_perceptron(threshold)\n",
    "\n",
    "print(\"Perceptron Output:\", output)"
   ]
  },
  {
   "cell_type": "code",
   "execution_count": 4,
   "id": "166a0300-39b7-428f-9ed4-52a054b9b39d",
   "metadata": {},
   "outputs": [
    {
     "data": {
      "text/plain": [
       "[(0, 0, 0),\n",
       " (0, 0, 1),\n",
       " (0, 1, 0),\n",
       " (0, 1, 1),\n",
       " (1, 0, 0),\n",
       " (1, 0, 1),\n",
       " (1, 1, 0),\n",
       " (1, 1, 1)]"
      ]
     },
     "execution_count": 4,
     "metadata": {},
     "output_type": "execute_result"
    }
   ],
   "source": [
    "\n",
    "binary_inputs = list(itertools.product([0, 1], repeat=3))\n",
    "binary_inputs\n"
   ]
  },
  {
   "cell_type": "code",
   "execution_count": 5,
   "id": "bef0fb7a-5cfb-4c3a-9def-8d3b982aed2f",
   "metadata": {},
   "outputs": [],
   "source": [
    "def categorize_input(bin_tuple):\n",
    " \n",
    "    bit1, bit2, bit3 = bin_tuple\n",
    "    cat1 = \"Black\" if bit1 == 1 else \"Not Black\"\n",
    "    cat2 = \"Full\" if bit2 == 1 else \"Half\"\n",
    "    cat3 = \"Cotton\" if bit3 == 1 else \"Not cotton\"\n",
    "    return (cat1, cat2, cat3)\n",
    "\n",
    "\n",
    "binary_inputs = list(itertools.product([0, 1], repeat=3))\n",
    "categorized_inputs = [categorize_input(bits) for bits in binary_inputs]\n",
    "\n",
    "data = pd.DataFrame(categorized_inputs, columns=[\"Color\", \"Sleeve\", \"Fabric\"])\n",
    "\n",
    "weights = [7, 4, 2]     \n",
    "threshold = 8  \n",
    "category_output = []\n",
    "\n",
    "for binary in binary_inputs:\n",
    "    perceptron = Perceptron(binary, weights)\n",
    "    output = perceptron.simple_perceptron(threshold)\n",
    "    category_output.append(\"Buys\" if output == 1 else \"Not buys\")"
   ]
  },
  {
   "cell_type": "code",
   "execution_count": 6,
   "id": "17d2c258-9677-4bfc-998c-77b386495f4b",
   "metadata": {},
   "outputs": [
    {
     "data": {
      "text/html": [
       "<div>\n",
       "<style scoped>\n",
       "    .dataframe tbody tr th:only-of-type {\n",
       "        vertical-align: middle;\n",
       "    }\n",
       "\n",
       "    .dataframe tbody tr th {\n",
       "        vertical-align: top;\n",
       "    }\n",
       "\n",
       "    .dataframe thead th {\n",
       "        text-align: right;\n",
       "    }\n",
       "</style>\n",
       "<table border=\"1\" class=\"dataframe\">\n",
       "  <thead>\n",
       "    <tr style=\"text-align: right;\">\n",
       "      <th></th>\n",
       "      <th>Color</th>\n",
       "      <th>Sleeve</th>\n",
       "      <th>Fabric</th>\n",
       "      <th>Buys?</th>\n",
       "    </tr>\n",
       "  </thead>\n",
       "  <tbody>\n",
       "    <tr>\n",
       "      <th>0</th>\n",
       "      <td>Not Black</td>\n",
       "      <td>Half</td>\n",
       "      <td>Not cotton</td>\n",
       "      <td>Not buys</td>\n",
       "    </tr>\n",
       "    <tr>\n",
       "      <th>1</th>\n",
       "      <td>Not Black</td>\n",
       "      <td>Half</td>\n",
       "      <td>Cotton</td>\n",
       "      <td>Not buys</td>\n",
       "    </tr>\n",
       "    <tr>\n",
       "      <th>2</th>\n",
       "      <td>Not Black</td>\n",
       "      <td>Full</td>\n",
       "      <td>Not cotton</td>\n",
       "      <td>Not buys</td>\n",
       "    </tr>\n",
       "    <tr>\n",
       "      <th>3</th>\n",
       "      <td>Not Black</td>\n",
       "      <td>Full</td>\n",
       "      <td>Cotton</td>\n",
       "      <td>Not buys</td>\n",
       "    </tr>\n",
       "    <tr>\n",
       "      <th>4</th>\n",
       "      <td>Black</td>\n",
       "      <td>Half</td>\n",
       "      <td>Not cotton</td>\n",
       "      <td>Not buys</td>\n",
       "    </tr>\n",
       "    <tr>\n",
       "      <th>5</th>\n",
       "      <td>Black</td>\n",
       "      <td>Half</td>\n",
       "      <td>Cotton</td>\n",
       "      <td>Buys</td>\n",
       "    </tr>\n",
       "    <tr>\n",
       "      <th>6</th>\n",
       "      <td>Black</td>\n",
       "      <td>Full</td>\n",
       "      <td>Not cotton</td>\n",
       "      <td>Buys</td>\n",
       "    </tr>\n",
       "    <tr>\n",
       "      <th>7</th>\n",
       "      <td>Black</td>\n",
       "      <td>Full</td>\n",
       "      <td>Cotton</td>\n",
       "      <td>Buys</td>\n",
       "    </tr>\n",
       "  </tbody>\n",
       "</table>\n",
       "</div>"
      ],
      "text/plain": [
       "       Color Sleeve      Fabric     Buys?\n",
       "0  Not Black   Half  Not cotton  Not buys\n",
       "1  Not Black   Half      Cotton  Not buys\n",
       "2  Not Black   Full  Not cotton  Not buys\n",
       "3  Not Black   Full      Cotton  Not buys\n",
       "4      Black   Half  Not cotton  Not buys\n",
       "5      Black   Half      Cotton      Buys\n",
       "6      Black   Full  Not cotton      Buys\n",
       "7      Black   Full      Cotton      Buys"
      ]
     },
     "execution_count": 6,
     "metadata": {},
     "output_type": "execute_result"
    }
   ],
   "source": [
    "data[\"Buys?\"] = category_output\n",
    "data"
   ]
  },
  {
   "cell_type": "markdown",
   "id": "bb457213-1fe9-489b-83a7-879e3fa4ec95",
   "metadata": {},
   "source": [
    "# MLP"
   ]
  },
  {
   "cell_type": "code",
   "execution_count": 7,
   "id": "ab189e4a-e82e-4c45-83ca-92757b409bc2",
   "metadata": {},
   "outputs": [
    {
     "data": {
      "text/plain": [
       "1"
      ]
     },
     "execution_count": 7,
     "metadata": {},
     "output_type": "execute_result"
    }
   ],
   "source": [
    "input_2 = list(itertools.product([0, 1], repeat=2))\n",
    "input_1 = [1, 0]\n",
    "weights_1 = [1, 1]\n",
    "weights_2 = [1, 1]\n",
    "weights_3 = [-1, 1]\n",
    "bias_1 = -1.5\n",
    "bias_2 = -0.5\n",
    "bias_3 = -0.5\n",
    "\n",
    "perceptron_1 = Perceptron(input_1, weights_1)\n",
    "perceptron_1_output = perceptron_1.step_perceptron(bias_1)\n",
    "\n",
    "perceptron_2 = Perceptron(input_1, weights_2)\n",
    "perceptron_2_output = perceptron_2.step_perceptron(bias_2)\n",
    "\n",
    "input_final_perceptron = [perceptron_1_output, perceptron_2_output]\n",
    "perceptron_3 = Perceptron(input_final_perceptron, weights_3)\n",
    "perceptron_3_output = perceptron_3.step_perceptron(bias_3)\n",
    "\n",
    "perceptron_3_output"
   ]
  },
  {
   "cell_type": "code",
   "execution_count": 13,
   "id": "19c53ec0-21f3-42f8-a388-ee713493e85b",
   "metadata": {},
   "outputs": [
    {
     "name": "stdout",
     "output_type": "stream",
     "text": [
      "Input: (0, 0) Output: 1\n",
      "Input: (0, 1) Output: 1\n",
      "Input: (1, 0) Output: 1\n",
      "Input: (1, 1) Output: 0\n"
     ]
    }
   ],
   "source": [
    "input_2 = list(itertools.product([0, 1], repeat=2))\n",
    "weights_1 = [1, 1]\n",
    "weights_2 = [1, 1]\n",
    "weights_3 = [-1, 1]\n",
    "bias_1 = -1.5\n",
    "bias_2 = 0.5\n",
    "bias_3 = -0.5\n",
    "\n",
    "for input_1 in input_2:\n",
    "    perceptron_1 = Perceptron(input_1, weights_1)\n",
    "    perceptron_1_output = perceptron_1.step_perceptron(bias_1)\n",
    "    \n",
    "    perceptron_2 = Perceptron(input_1, weights_2)\n",
    "    perceptron_2_output = perceptron_2.step_perceptron(bias_2)\n",
    "    \n",
    "    input_final_perceptron = [perceptron_1_output, perceptron_2_output]\n",
    "    perceptron_3 = Perceptron(input_final_perceptron, weights_3)\n",
    "    perceptron_3_output = perceptron_3.step_perceptron(bias_3)\n",
    "    \n",
    "    print(\"Input:\", input_1, \"Output:\", perceptron_3_output)"
   ]
  },
  {
   "cell_type": "code",
   "execution_count": 9,
   "id": "65a18b15-6511-4365-90bc-dd77f39f733d",
   "metadata": {},
   "outputs": [
    {
     "data": {
      "text/plain": [
       "4"
      ]
     },
     "execution_count": 9,
     "metadata": {},
     "output_type": "execute_result"
    }
   ],
   "source": [
    "x_inputs = np.array([[0,0],[0,1],[1,0],[1,1]])\n",
    "x_inputs.shape[0]"
   ]
  },
  {
   "cell_type": "code",
   "execution_count": 15,
   "id": "0f303d70-62a7-4029-8521-be082cf2b193",
   "metadata": {},
   "outputs": [
    {
     "data": {
      "text/plain": [
       "array([0, 1])"
      ]
     },
     "execution_count": 15,
     "metadata": {},
     "output_type": "execute_result"
    }
   ],
   "source": [
    "x_inputs[1]"
   ]
  },
  {
   "cell_type": "code",
   "execution_count": 6,
   "id": "d7d50357-6c4e-4f42-a251-c824cf5af6d3",
   "metadata": {},
   "outputs": [
    {
     "data": {
      "text/plain": [
       "2"
      ]
     },
     "execution_count": 6,
     "metadata": {},
     "output_type": "execute_result"
    }
   ],
   "source": [
    "input_2 = np.array(list(itertools.product([0, 1], repeat=2)))\n",
    "input_2.shape[1]"
   ]
  },
  {
   "cell_type": "code",
   "execution_count": 7,
   "id": "1a85ece8-5f3b-4a73-bd12-c026c56a7d4e",
   "metadata": {},
   "outputs": [
    {
     "data": {
      "text/plain": [
       "array([[0, 0],\n",
       "       [0, 1],\n",
       "       [1, 0],\n",
       "       [1, 1]])"
      ]
     },
     "execution_count": 7,
     "metadata": {},
     "output_type": "execute_result"
    }
   ],
   "source": [
    "input_2"
   ]
  },
  {
   "cell_type": "markdown",
   "id": "7c295c19-d066-4248-815f-27960063e226",
   "metadata": {},
   "source": [
    "# Backpropagation"
   ]
  },
  {
   "cell_type": "code",
   "execution_count": 30,
   "id": "58aedd7b-fd8c-4a24-a0a3-421f7b120ece",
   "metadata": {},
   "outputs": [],
   "source": [
    "class BackPropagation:\n",
    "\n",
    "    def __init__ (self, x_input, y_output, learning_rate = 0.1, max_iters = 100):\n",
    "        self.x_input = x_input\n",
    "        self.y_output = y_output\n",
    "        self.learning_rate = learning_rate\n",
    "        self.max_iters = max_iters\n",
    "        self.num_inputs = x_input.shape[1]\n",
    "        self.length_inputs = x_input.shape[0]\n",
    "\n",
    "\n",
    "\n",
    "    def weights_bias (self):\n",
    "        weights = np.random.rand(self.num_inputs)\n",
    "        bias = 0\n",
    "        \n",
    "        for iters in range(self.max_iters):\n",
    "            for i in range(self.length_inputs):\n",
    "                \n",
    "                output = self.step_perceptron(self.x_input[i], weights, bias)\n",
    "                \n",
    "                error = (self.y_output[i] - output)\n",
    "                \n",
    "                weights = weights + (self.learning_rate * error *self.x_input[i])\n",
    "                bias = bias + (self.learning_rate * error)\n",
    "        \n",
    "        return weights, bias\n",
    "\n",
    "    \n",
    "    def step_perceptron(self, inputs, weights, bias):\n",
    "        total = 0\n",
    "        for i in range(len(weights)):\n",
    "            total += inputs[i] * weights[i]\n",
    "        total += bias\n",
    "        \n",
    "        if (total >= 0):\n",
    "            return 1\n",
    "        else:\n",
    "            return 0\n"
   ]
  },
  {
   "cell_type": "code",
   "execution_count": 31,
   "id": "97383adb-01eb-4333-a492-a63804e92190",
   "metadata": {},
   "outputs": [],
   "source": [
    "x_input = np.array([[0,0],[0,1],[1,0],[1,1]])\n",
    "y_output = np.array([0,1,1,1])\n",
    "learning_rate = 0.1\n",
    "max_iters = 100\n",
    "\n",
    "my_perceptron = BackPropagation(x_input, y_output, learning_rate, max_iters)\n",
    "weights, bias = my_perceptron.weights_bias()"
   ]
  },
  {
   "cell_type": "code",
   "execution_count": 32,
   "id": "b34a0065-b248-41bc-8c4e-ca8dcd891ed1",
   "metadata": {},
   "outputs": [
    {
     "data": {
      "text/plain": [
       "array([0.40355934, 0.31509514])"
      ]
     },
     "execution_count": 32,
     "metadata": {},
     "output_type": "execute_result"
    }
   ],
   "source": [
    "weights"
   ]
  },
  {
   "cell_type": "code",
   "execution_count": 33,
   "id": "145a697b-e91d-4378-bf94-a417084eafa8",
   "metadata": {},
   "outputs": [
    {
     "data": {
      "text/plain": [
       "-0.1"
      ]
     },
     "execution_count": 33,
     "metadata": {},
     "output_type": "execute_result"
    }
   ],
   "source": [
    "bias"
   ]
  },
  {
   "cell_type": "code",
   "execution_count": 34,
   "id": "7fa177f4-7b1f-4447-b25f-9cc769e3a59b",
   "metadata": {},
   "outputs": [
    {
     "name": "stdout",
     "output_type": "stream",
     "text": [
      "Input: [0 0] Output: 0\n",
      "Input: [0 1] Output: 1\n",
      "Input: [1 0] Output: 1\n",
      "Input: [1 1] Output: 1\n"
     ]
    }
   ],
   "source": [
    "for input_test in x_inputs:\n",
    "    test_perceptron = Perceptron(input_test, weights)\n",
    "    output_test = test_perceptron.step_perceptron(bias)\n",
    "    print(\"Input:\", input_test, \"Output:\", output_test)\n",
    "    \n"
   ]
  },
  {
   "cell_type": "code",
   "execution_count": 1,
   "id": "93d146c9-5781-42ac-bf2d-25be6c2ec8e4",
   "metadata": {},
   "outputs": [],
   "source": [
    "from sklearn.model_selection import train_test_split as tts\n",
    "from sklearn.neural_network import MLPRegressor\n",
    "from sklearn.preprocessing import StandardScaler\n",
    "from sklearn.metrics import r2_score\n",
    "\n",
    "import warnings\n",
    "warnings.filterwarnings(\"ignore\")"
   ]
  },
  {
   "cell_type": "code",
   "execution_count": 7,
   "id": "16d57ef3-9c89-489b-8b7d-f25a4a75cdc3",
   "metadata": {},
   "outputs": [
    {
     "name": "stdout",
     "output_type": "stream",
     "text": [
      "0.5603667327065467\n"
     ]
    }
   ],
   "source": [
    "\n",
    "import pandas as pd\n",
    "data = pd.read_csv(\"used_car_clean.csv\")\n",
    "#x_ind = data[['year', 'Mileage']]\n",
    "#X = data[['year', 'Mileage']]\n",
    "X = data[['Mileage', 'horsepower','year']]\n",
    "#X = data[['body_condition', 'mechanical_condition', 'no_of_cylinders', \n",
    "#'horsepower', 'year', 'Mileage']]\n",
    "#X= x_ind.values\n",
    "#y = data['Price_USD'].values\n",
    "y = data['Price_USD']\n",
    "\n",
    "# Split the data into training and testing sets\n",
    "X_train, X_test, y_train, y_test = tts(X, y, test_size=0.2, random_state=42)\n",
    "\n",
    "# Scale the features\n",
    "scaler = StandardScaler()\n",
    "X_train_scaled = scaler.fit_transform(X_train)\n",
    "X_test_scaled = scaler.transform(X_test)\n",
    "\n",
    "# Define and train the MLPRegressor model\n",
    "# 'adam' stands for Adaptive Moment Estimation. \n",
    "#It’s an extension of stochastic gradient descent that adapts learning rates for each parameter \n",
    "#using estimates of first and second moments of the gradients.\n",
    "mlp_regressor = MLPRegressor(hidden_layer_sizes=(64,32,16), activation='relu', \n",
    "                             solver='adam', random_state=42)\n",
    "mlp_regressor.fit(X_train_scaled, y_train)\n",
    "\n",
    "# Calculate R-squared on training data\n",
    "print(mlp_regressor.score(X_train_scaled,y_train))\n",
    "\n",
    "\n",
    "# Make predictions on training data\n",
    "train_predictions = mlp_regressor.predict(X_train_scaled)"
   ]
  },
  {
   "cell_type": "code",
   "execution_count": null,
   "id": "942084fb-7111-41da-bef6-043235a58436",
   "metadata": {},
   "outputs": [],
   "source": []
  },
  {
   "cell_type": "code",
   "execution_count": 4,
   "id": "2d71eb02-e6bd-49f9-b854-8aff699c3238",
   "metadata": {},
   "outputs": [],
   "source": [
    "from sklearn.neural_network import MLPClassifier\n",
    "from sklearn.metrics import accuracy_score, precision_score, recall_score, f1_score, confusion_matrix"
   ]
  },
  {
   "cell_type": "code",
   "execution_count": 5,
   "id": "741488c8-4b9a-4a99-bbc5-1509c8805b6a",
   "metadata": {},
   "outputs": [
    {
     "name": "stdout",
     "output_type": "stream",
     "text": [
      "Confusion Matrix:\n",
      "[[75 31]\n",
      " [17 31]]\n",
      "Accuracy: 0.69\n",
      "Precision: 0.5\n",
      "Recall: 0.65\n",
      "F1 Score: 0.56\n"
     ]
    }
   ],
   "source": [
    "data = pd.read_csv(\"diabetes.csv\")\n",
    "col = 'Outcome'\n",
    "x_ind = data.loc[:, data.columns!=col]\n",
    "y_dep = data[col]\n",
    "\n",
    "X_train, X_test, y_train, y_test = tts((x_ind),(y_dep),test_size = 0.2)\n",
    "mlp = MLPClassifier(hidden_layer_sizes=(200,50), max_iter=1000)\n",
    "\n",
    "# Train the model\n",
    "mlp.fit(X_train, y_train)\n",
    "\n",
    "# Predict on the test data\n",
    "y_pred = mlp.predict(X_test)\n",
    "\n",
    "accuracy = accuracy_score(y_test, y_pred)\n",
    "precision = precision_score(y_test, y_pred)\n",
    "recall = recall_score(y_test, y_pred)\n",
    "f1 = f1_score(y_test, y_pred)\n",
    "confusion = confusion_matrix(y_test, y_pred)\n",
    "\n",
    "print(\"Confusion Matrix:\")\n",
    "print(confusion)    \n",
    "print(\"Accuracy:\", round(accuracy,2))\n",
    "print(\"Precision:\", round(precision,2))\n",
    "print(\"Recall: {:.2f}\".format(recall))\n",
    "print(\"F1 Score: {:.2f}\".format(f1))"
   ]
  },
  {
   "cell_type": "code",
   "execution_count": null,
   "id": "4e01e109-3cda-4341-bc30-6dae7c948db0",
   "metadata": {},
   "outputs": [],
   "source": []
  }
 ],
 "metadata": {
  "kernelspec": {
   "display_name": "Python 3 (ipykernel)",
   "language": "python",
   "name": "python3"
  },
  "language_info": {
   "codemirror_mode": {
    "name": "ipython",
    "version": 3
   },
   "file_extension": ".py",
   "mimetype": "text/x-python",
   "name": "python",
   "nbconvert_exporter": "python",
   "pygments_lexer": "ipython3",
   "version": "3.11.7"
  }
 },
 "nbformat": 4,
 "nbformat_minor": 5
}
