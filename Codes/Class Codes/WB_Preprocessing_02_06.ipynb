{
 "cells": [
  {
   "cell_type": "markdown",
   "id": "43bd0ca6",
   "metadata": {},
   "source": [
    "# Import Libraries"
   ]
  },
  {
   "cell_type": "code",
   "execution_count": 78,
   "id": "a5005a39",
   "metadata": {},
   "outputs": [],
   "source": [
    "import numpy as np\n",
    "import pandas as pd\n",
    "import matplotlib.pyplot as plt\n",
    "import seaborn as sns\n",
    "\n",
    "from sklearn.preprocessing import MinMaxScaler, Normalizer, StandardScaler\n",
    "\n",
    "import warnings\n",
    "warnings.filterwarnings('ignore')"
   ]
  },
  {
   "cell_type": "markdown",
   "id": "2d8255c6",
   "metadata": {},
   "source": [
    "# Load the dataset "
   ]
  },
  {
   "cell_type": "code",
   "execution_count": 79,
   "id": "43b9d6e5",
   "metadata": {},
   "outputs": [],
   "source": [
    "data = pd.read_csv(\"used_cs_1.csv\")\n"
   ]
  },
  {
   "cell_type": "markdown",
   "id": "4c12ebc3",
   "metadata": {},
   "source": [
    "# Take a look at the data"
   ]
  },
  {
   "cell_type": "code",
   "execution_count": 33,
   "id": "2cee716b",
   "metadata": {},
   "outputs": [
    {
     "data": {
      "text/html": [
       "<div>\n",
       "<style scoped>\n",
       "    .dataframe tbody tr th:only-of-type {\n",
       "        vertical-align: middle;\n",
       "    }\n",
       "\n",
       "    .dataframe tbody tr th {\n",
       "        vertical-align: top;\n",
       "    }\n",
       "\n",
       "    .dataframe thead th {\n",
       "        text-align: right;\n",
       "    }\n",
       "</style>\n",
       "<table border=\"1\" class=\"dataframe\">\n",
       "  <thead>\n",
       "    <tr style=\"text-align: right;\">\n",
       "      <th></th>\n",
       "      <th>title</th>\n",
       "      <th>price_in_aed</th>\n",
       "      <th>kilometers</th>\n",
       "      <th>body_condition</th>\n",
       "      <th>mechanical_condition</th>\n",
       "      <th>seller_type</th>\n",
       "      <th>body_type</th>\n",
       "      <th>no_of_cylinders</th>\n",
       "      <th>transmission_type</th>\n",
       "      <th>regional_specs</th>\n",
       "      <th>horsepower</th>\n",
       "      <th>fuel_type</th>\n",
       "      <th>steering_side</th>\n",
       "      <th>year</th>\n",
       "      <th>color</th>\n",
       "      <th>emirate</th>\n",
       "      <th>motors_trim</th>\n",
       "      <th>company</th>\n",
       "      <th>model</th>\n",
       "      <th>date_posted</th>\n",
       "    </tr>\n",
       "  </thead>\n",
       "  <tbody>\n",
       "    <tr>\n",
       "      <th>0</th>\n",
       "      <td>MITSUBISHI PAJERO 3.5L / 2013</td>\n",
       "      <td>26,000</td>\n",
       "      <td>167390</td>\n",
       "      <td>Perfect inside and out</td>\n",
       "      <td>Perfect inside and out</td>\n",
       "      <td>Dealer</td>\n",
       "      <td>SUV</td>\n",
       "      <td>6</td>\n",
       "      <td>Automatic Transmission</td>\n",
       "      <td>GCC Specs</td>\n",
       "      <td>Unknown</td>\n",
       "      <td>Gasoline</td>\n",
       "      <td>Left Hand Side</td>\n",
       "      <td>2013.0</td>\n",
       "      <td>Silver</td>\n",
       "      <td>Dubai</td>\n",
       "      <td>GLS</td>\n",
       "      <td>mitsubishi</td>\n",
       "      <td>pajero</td>\n",
       "      <td>13/05/2022</td>\n",
       "    </tr>\n",
       "    <tr>\n",
       "      <th>1</th>\n",
       "      <td>chevrolet silverado</td>\n",
       "      <td>110,000</td>\n",
       "      <td>39000</td>\n",
       "      <td>Perfect inside and out</td>\n",
       "      <td>Perfect inside and out</td>\n",
       "      <td>Dealer</td>\n",
       "      <td>SUV</td>\n",
       "      <td>8</td>\n",
       "      <td>Automatic Transmission</td>\n",
       "      <td>North American Specs</td>\n",
       "      <td>400 - 500 HP</td>\n",
       "      <td>Gasoline</td>\n",
       "      <td>Left Hand Side</td>\n",
       "      <td>2018.0</td>\n",
       "      <td>White</td>\n",
       "      <td>Sharjah</td>\n",
       "      <td>1500 High Country</td>\n",
       "      <td>chevrolet</td>\n",
       "      <td>silverado</td>\n",
       "      <td>14/01/2022</td>\n",
       "    </tr>\n",
       "  </tbody>\n",
       "</table>\n",
       "</div>"
      ],
      "text/plain": [
       "                           title price_in_aed  kilometers  \\\n",
       "0  MITSUBISHI PAJERO 3.5L / 2013       26,000      167390   \n",
       "1            chevrolet silverado      110,000       39000   \n",
       "\n",
       "           body_condition    mechanical_condition seller_type body_type  \\\n",
       "0  Perfect inside and out  Perfect inside and out      Dealer       SUV   \n",
       "1  Perfect inside and out  Perfect inside and out      Dealer       SUV   \n",
       "\n",
       "  no_of_cylinders       transmission_type        regional_specs    horsepower  \\\n",
       "0               6  Automatic Transmission             GCC Specs       Unknown   \n",
       "1               8  Automatic Transmission  North American Specs  400 - 500 HP   \n",
       "\n",
       "  fuel_type   steering_side    year   color   emirate        motors_trim  \\\n",
       "0  Gasoline  Left Hand Side  2013.0  Silver     Dubai                GLS   \n",
       "1  Gasoline  Left Hand Side  2018.0   White   Sharjah  1500 High Country   \n",
       "\n",
       "      company      model date_posted  \n",
       "0  mitsubishi     pajero  13/05/2022  \n",
       "1   chevrolet  silverado  14/01/2022  "
      ]
     },
     "execution_count": 33,
     "metadata": {},
     "output_type": "execute_result"
    }
   ],
   "source": [
    "data.head(2)"
   ]
  },
  {
   "cell_type": "markdown",
   "id": "99459cf3",
   "metadata": {},
   "source": [
    "# Check the details"
   ]
  },
  {
   "cell_type": "code",
   "execution_count": 6,
   "id": "09c8d0cf",
   "metadata": {},
   "outputs": [
    {
     "data": {
      "text/html": [
       "<div>\n",
       "<style scoped>\n",
       "    .dataframe tbody tr th:only-of-type {\n",
       "        vertical-align: middle;\n",
       "    }\n",
       "\n",
       "    .dataframe tbody tr th {\n",
       "        vertical-align: top;\n",
       "    }\n",
       "\n",
       "    .dataframe thead th {\n",
       "        text-align: right;\n",
       "    }\n",
       "</style>\n",
       "<table border=\"1\" class=\"dataframe\">\n",
       "  <thead>\n",
       "    <tr style=\"text-align: right;\">\n",
       "      <th></th>\n",
       "      <th>kilometers</th>\n",
       "      <th>year</th>\n",
       "    </tr>\n",
       "  </thead>\n",
       "  <tbody>\n",
       "    <tr>\n",
       "      <th>count</th>\n",
       "      <td>9.970000e+03</td>\n",
       "      <td>9000.000000</td>\n",
       "    </tr>\n",
       "    <tr>\n",
       "      <th>mean</th>\n",
       "      <td>9.894896e+04</td>\n",
       "      <td>2015.626444</td>\n",
       "    </tr>\n",
       "    <tr>\n",
       "      <th>std</th>\n",
       "      <td>1.154300e+06</td>\n",
       "      <td>4.735991</td>\n",
       "    </tr>\n",
       "    <tr>\n",
       "      <th>min</th>\n",
       "      <td>0.000000e+00</td>\n",
       "      <td>1953.000000</td>\n",
       "    </tr>\n",
       "    <tr>\n",
       "      <th>25%</th>\n",
       "      <td>2.314350e+04</td>\n",
       "      <td>2014.000000</td>\n",
       "    </tr>\n",
       "    <tr>\n",
       "      <th>50%</th>\n",
       "      <td>7.600000e+04</td>\n",
       "      <td>2016.000000</td>\n",
       "    </tr>\n",
       "    <tr>\n",
       "      <th>75%</th>\n",
       "      <td>1.330828e+05</td>\n",
       "      <td>2019.000000</td>\n",
       "    </tr>\n",
       "    <tr>\n",
       "      <th>max</th>\n",
       "      <td>1.150000e+08</td>\n",
       "      <td>2021.000000</td>\n",
       "    </tr>\n",
       "  </tbody>\n",
       "</table>\n",
       "</div>"
      ],
      "text/plain": [
       "         kilometers         year\n",
       "count  9.970000e+03  9000.000000\n",
       "mean   9.894896e+04  2015.626444\n",
       "std    1.154300e+06     4.735991\n",
       "min    0.000000e+00  1953.000000\n",
       "25%    2.314350e+04  2014.000000\n",
       "50%    7.600000e+04  2016.000000\n",
       "75%    1.330828e+05  2019.000000\n",
       "max    1.150000e+08  2021.000000"
      ]
     },
     "execution_count": 6,
     "metadata": {},
     "output_type": "execute_result"
    }
   ],
   "source": [
    "data.describe()"
   ]
  },
  {
   "cell_type": "code",
   "execution_count": 7,
   "id": "62b6f1bb",
   "metadata": {},
   "outputs": [
    {
     "name": "stdout",
     "output_type": "stream",
     "text": [
      "<class 'pandas.core.frame.DataFrame'>\n",
      "RangeIndex: 9970 entries, 0 to 9969\n",
      "Data columns (total 20 columns):\n",
      " #   Column                Non-Null Count  Dtype  \n",
      "---  ------                --------------  -----  \n",
      " 0   title                 9965 non-null   object \n",
      " 1   price_in_aed          9970 non-null   object \n",
      " 2   kilometers            9970 non-null   int64  \n",
      " 3   body_condition        9970 non-null   object \n",
      " 4   mechanical_condition  9970 non-null   object \n",
      " 5   seller_type           9970 non-null   object \n",
      " 6   body_type             9970 non-null   object \n",
      " 7   no_of_cylinders       9889 non-null   object \n",
      " 8   transmission_type     9970 non-null   object \n",
      " 9   regional_specs        9970 non-null   object \n",
      " 10  horsepower            9970 non-null   object \n",
      " 11  fuel_type             9970 non-null   object \n",
      " 12  steering_side         9970 non-null   object \n",
      " 13  year                  9000 non-null   float64\n",
      " 14  color                 9970 non-null   object \n",
      " 15  emirate               9970 non-null   object \n",
      " 16  motors_trim           9942 non-null   object \n",
      " 17  company               9970 non-null   object \n",
      " 18  model                 9970 non-null   object \n",
      " 19  date_posted           9970 non-null   object \n",
      "dtypes: float64(1), int64(1), object(18)\n",
      "memory usage: 1.5+ MB\n"
     ]
    }
   ],
   "source": [
    "data.info()"
   ]
  },
  {
   "cell_type": "markdown",
   "id": "3f233da4",
   "metadata": {},
   "source": [
    "# Look at the total number of missing values in each column"
   ]
  },
  {
   "cell_type": "code",
   "execution_count": 8,
   "id": "5a27636f-b8a0-476c-b55b-bdec4516b49c",
   "metadata": {},
   "outputs": [
    {
     "data": {
      "text/plain": [
       "title                     5\n",
       "price_in_aed              0\n",
       "kilometers                0\n",
       "body_condition            0\n",
       "mechanical_condition      0\n",
       "seller_type               0\n",
       "body_type                 0\n",
       "no_of_cylinders          81\n",
       "transmission_type         0\n",
       "regional_specs            0\n",
       "horsepower                0\n",
       "fuel_type                 0\n",
       "steering_side             0\n",
       "year                    970\n",
       "color                     0\n",
       "emirate                   0\n",
       "motors_trim              28\n",
       "company                   0\n",
       "model                     0\n",
       "date_posted               0\n",
       "dtype: int64"
      ]
     },
     "execution_count": 8,
     "metadata": {},
     "output_type": "execute_result"
    }
   ],
   "source": [
    "data.isnull().sum()"
   ]
  },
  {
   "cell_type": "code",
   "execution_count": 9,
   "id": "773a9360-cad4-4925-b50d-ac8a27b86461",
   "metadata": {},
   "outputs": [
    {
     "data": {
      "text/plain": [
       "Index(['title', 'price_in_aed', 'kilometers', 'body_condition',\n",
       "       'mechanical_condition', 'seller_type', 'body_type', 'no_of_cylinders',\n",
       "       'transmission_type', 'regional_specs', 'horsepower', 'fuel_type',\n",
       "       'steering_side', 'year', 'color', 'emirate', 'motors_trim', 'company',\n",
       "       'model', 'date_posted'],\n",
       "      dtype='object')"
      ]
     },
     "execution_count": 9,
     "metadata": {},
     "output_type": "execute_result"
    }
   ],
   "source": [
    "data.columns"
   ]
  },
  {
   "cell_type": "code",
   "execution_count": 80,
   "id": "44a0384e-9349-4592-8efc-165a16cd1516",
   "metadata": {},
   "outputs": [],
   "source": [
    "data.dropna(inplace = True)"
   ]
  },
  {
   "cell_type": "code",
   "execution_count": 15,
   "id": "5e595fc3-25b6-45fd-92f7-93587511711c",
   "metadata": {},
   "outputs": [
    {
     "data": {
      "text/html": [
       "<div>\n",
       "<style scoped>\n",
       "    .dataframe tbody tr th:only-of-type {\n",
       "        vertical-align: middle;\n",
       "    }\n",
       "\n",
       "    .dataframe tbody tr th {\n",
       "        vertical-align: top;\n",
       "    }\n",
       "\n",
       "    .dataframe thead th {\n",
       "        text-align: right;\n",
       "    }\n",
       "</style>\n",
       "<table border=\"1\" class=\"dataframe\">\n",
       "  <thead>\n",
       "    <tr style=\"text-align: right;\">\n",
       "      <th></th>\n",
       "      <th>title</th>\n",
       "      <th>price_in_aed</th>\n",
       "      <th>kilometers</th>\n",
       "      <th>body_condition</th>\n",
       "      <th>mechanical_condition</th>\n",
       "      <th>seller_type</th>\n",
       "      <th>body_type</th>\n",
       "      <th>no_of_cylinders</th>\n",
       "      <th>transmission_type</th>\n",
       "      <th>regional_specs</th>\n",
       "      <th>horsepower</th>\n",
       "      <th>fuel_type</th>\n",
       "      <th>steering_side</th>\n",
       "      <th>year</th>\n",
       "      <th>color</th>\n",
       "      <th>emirate</th>\n",
       "      <th>motors_trim</th>\n",
       "      <th>company</th>\n",
       "      <th>model</th>\n",
       "      <th>date_posted</th>\n",
       "    </tr>\n",
       "  </thead>\n",
       "  <tbody>\n",
       "    <tr>\n",
       "      <th>0</th>\n",
       "      <td>MITSUBISHI PAJERO 3.5L / 2013</td>\n",
       "      <td>26,000</td>\n",
       "      <td>167390</td>\n",
       "      <td>Perfect inside and out</td>\n",
       "      <td>Perfect inside and out</td>\n",
       "      <td>Dealer</td>\n",
       "      <td>SUV</td>\n",
       "      <td>6</td>\n",
       "      <td>Automatic Transmission</td>\n",
       "      <td>GCC Specs</td>\n",
       "      <td>Unknown</td>\n",
       "      <td>Gasoline</td>\n",
       "      <td>Left Hand Side</td>\n",
       "      <td>2013.0</td>\n",
       "      <td>Silver</td>\n",
       "      <td>Dubai</td>\n",
       "      <td>GLS</td>\n",
       "      <td>mitsubishi</td>\n",
       "      <td>pajero</td>\n",
       "      <td>13/05/2022</td>\n",
       "    </tr>\n",
       "    <tr>\n",
       "      <th>1</th>\n",
       "      <td>chevrolet silverado</td>\n",
       "      <td>110,000</td>\n",
       "      <td>39000</td>\n",
       "      <td>Perfect inside and out</td>\n",
       "      <td>Perfect inside and out</td>\n",
       "      <td>Dealer</td>\n",
       "      <td>SUV</td>\n",
       "      <td>8</td>\n",
       "      <td>Automatic Transmission</td>\n",
       "      <td>North American Specs</td>\n",
       "      <td>400 - 500 HP</td>\n",
       "      <td>Gasoline</td>\n",
       "      <td>Left Hand Side</td>\n",
       "      <td>2018.0</td>\n",
       "      <td>White</td>\n",
       "      <td>Sharjah</td>\n",
       "      <td>1500 High Country</td>\n",
       "      <td>chevrolet</td>\n",
       "      <td>silverado</td>\n",
       "      <td>14/01/2022</td>\n",
       "    </tr>\n",
       "  </tbody>\n",
       "</table>\n",
       "</div>"
      ],
      "text/plain": [
       "                           title price_in_aed  kilometers  \\\n",
       "0  MITSUBISHI PAJERO 3.5L / 2013       26,000      167390   \n",
       "1            chevrolet silverado      110,000       39000   \n",
       "\n",
       "           body_condition    mechanical_condition seller_type body_type  \\\n",
       "0  Perfect inside and out  Perfect inside and out      Dealer       SUV   \n",
       "1  Perfect inside and out  Perfect inside and out      Dealer       SUV   \n",
       "\n",
       "  no_of_cylinders       transmission_type        regional_specs    horsepower  \\\n",
       "0               6  Automatic Transmission             GCC Specs       Unknown   \n",
       "1               8  Automatic Transmission  North American Specs  400 - 500 HP   \n",
       "\n",
       "  fuel_type   steering_side    year   color   emirate        motors_trim  \\\n",
       "0  Gasoline  Left Hand Side  2013.0  Silver     Dubai                GLS   \n",
       "1  Gasoline  Left Hand Side  2018.0   White   Sharjah  1500 High Country   \n",
       "\n",
       "      company      model date_posted  \n",
       "0  mitsubishi     pajero  13/05/2022  \n",
       "1   chevrolet  silverado  14/01/2022  "
      ]
     },
     "execution_count": 15,
     "metadata": {},
     "output_type": "execute_result"
    }
   ],
   "source": [
    "#data.isnull().sum()\n",
    "data.head(2)"
   ]
  },
  {
   "cell_type": "markdown",
   "id": "1b0fe642",
   "metadata": {},
   "source": [
    "# Feature Selection "
   ]
  },
  {
   "cell_type": "code",
   "execution_count": 81,
   "id": "0a9b2cf6",
   "metadata": {},
   "outputs": [],
   "source": [
    "to_drop = ['seller_type', 'regional_specs',  'fuel_type', 'color', 'emirate', 'motors_trim','model', 'date_posted']\n",
    "data_selection = data.drop(columns = to_drop)"
   ]
  },
  {
   "cell_type": "code",
   "execution_count": 23,
   "id": "2aa7caf7",
   "metadata": {},
   "outputs": [
    {
     "name": "stdout",
     "output_type": "stream",
     "text": [
      "<class 'pandas.core.frame.DataFrame'>\n",
      "Index: 8944 entries, 0 to 9969\n",
      "Data columns (total 12 columns):\n",
      " #   Column                Non-Null Count  Dtype  \n",
      "---  ------                --------------  -----  \n",
      " 0   title                 8944 non-null   object \n",
      " 1   price_in_aed          8944 non-null   object \n",
      " 2   kilometers            8944 non-null   int64  \n",
      " 3   body_condition        8944 non-null   object \n",
      " 4   mechanical_condition  8944 non-null   object \n",
      " 5   body_type             8944 non-null   object \n",
      " 6   no_of_cylinders       8944 non-null   object \n",
      " 7   transmission_type     8944 non-null   object \n",
      " 8   horsepower            8944 non-null   object \n",
      " 9   steering_side         8944 non-null   object \n",
      " 10  year                  8944 non-null   float64\n",
      " 11  company               8944 non-null   object \n",
      "dtypes: float64(1), int64(1), object(10)\n",
      "memory usage: 908.4+ KB\n"
     ]
    }
   ],
   "source": [
    "data_selection.info()"
   ]
  },
  {
   "cell_type": "code",
   "execution_count": null,
   "id": "05025216-de12-46cd-b39c-6e6d005280de",
   "metadata": {},
   "outputs": [],
   "source": []
  },
  {
   "cell_type": "markdown",
   "id": "96a2cc7d-4aca-49fd-8a88-a5f1fa8f908c",
   "metadata": {},
   "source": [
    "# Getting columns into appropriate data type"
   ]
  },
  {
   "cell_type": "code",
   "execution_count": 82,
   "id": "d18de0a5",
   "metadata": {},
   "outputs": [],
   "source": [
    "data_selection['price_in_aed'] = data_selection['price_in_aed'].astype(\"category\")\n",
    "data_selection['price_in_aed'] = data_selection['price_in_aed'].str.replace(\",\", \"\")\n",
    "data_selection['price_in_aed'] = data_selection['price_in_aed'].astype(float)"
   ]
  },
  {
   "cell_type": "code",
   "execution_count": 83,
   "id": "151c1e41-6ff7-4fbe-aa06-b018f70ff485",
   "metadata": {},
   "outputs": [],
   "source": [
    "#data_selection.describe()\n",
    "data_selection['Price_USD'] = data_selection['price_in_aed'] * 0.27"
   ]
  },
  {
   "cell_type": "code",
   "execution_count": 39,
   "id": "e5584158-d7f0-4a9c-a650-5bed0bcdf7bc",
   "metadata": {},
   "outputs": [],
   "source": [
    "#data_selection.head()"
   ]
  },
  {
   "cell_type": "markdown",
   "id": "6473f932-d66b-481c-b939-ba3d1e034105",
   "metadata": {},
   "source": [
    "# Outlier Treatment"
   ]
  },
  {
   "cell_type": "code",
   "execution_count": null,
   "id": "9cc0f321-ffd9-43c7-a65c-fccca069911f",
   "metadata": {},
   "outputs": [],
   "source": []
  },
  {
   "cell_type": "code",
   "execution_count": 19,
   "id": "97c8c8fb-9a7a-473f-9e95-62f1fbec3dc8",
   "metadata": {},
   "outputs": [
    {
     "data": {
      "image/png": "[encoded data removed]",
      "text/plain": [
       "<Figure size 640x480 with 1 Axes>"
      ]
     },
     "metadata": {},
     "output_type": "display_data"
    }
   ],
   "source": [
    "plt.boxplot(data_selection['Price_USD'])\n",
    "plt.show()"
   ]
  },
  {
   "cell_type": "code",
   "execution_count": 20,
   "id": "cd115ab1-6dce-4ef2-9e1b-b4d3c212a524",
   "metadata": {},
   "outputs": [],
   "source": [
    "data_1 = data_selection.copy()"
   ]
  },
  {
   "cell_type": "code",
   "execution_count": 21,
   "id": "5b178b50-bf99-4a97-ad6d-4ad1846ea40b",
   "metadata": {},
   "outputs": [
    {
     "data": {
      "text/plain": [
       "0       True\n",
       "1       True\n",
       "2       True\n",
       "3       True\n",
       "4       True\n",
       "        ... \n",
       "9964    True\n",
       "9965    True\n",
       "9966    True\n",
       "9968    True\n",
       "9969    True\n",
       "Name: Price_USD, Length: 8944, dtype: bool"
      ]
     },
     "execution_count": 21,
     "metadata": {},
     "output_type": "execute_result"
    }
   ],
   "source": [
    "upper_limit = data_1['Price_USD'].quantile(0.99)\n",
    "lower_limit = data_1['Price_USD'].quantile(.01)\n",
    "mask_price = (data_1['Price_USD'] <= upper_limit) & (data_1['Price_USD'] >= lower_limit)\n",
    "mask_price"
   ]
  },
  {
   "cell_type": "code",
   "execution_count": 22,
   "id": "f012db9d-5c07-4876-9acf-7be9ee123503",
   "metadata": {},
   "outputs": [],
   "source": [
    "data_1 = data_1[mask_price]"
   ]
  },
  {
   "cell_type": "code",
   "execution_count": 23,
   "id": "e29811ad-987b-4a5f-815f-105f967647a4",
   "metadata": {},
   "outputs": [
    {
     "data": {
      "image/png": "[encoded data removed]",
      "text/plain": [
       "<Figure size 640x480 with 1 Axes>"
      ]
     },
     "metadata": {},
     "output_type": "display_data"
    }
   ],
   "source": [
    "plt.boxplot(data_1['Price_USD'])\n",
    "plt.show()"
   ]
  },
  {
   "cell_type": "code",
   "execution_count": 48,
   "id": "17545fa0-0730-4a8b-86ea-f039fdd2a743",
   "metadata": {},
   "outputs": [],
   "source": [
    "#mask_inv = np.invert(mask_price)\n",
    "#data_1_costly_cars = data_selection[mask_inv]"
   ]
  },
  {
   "cell_type": "code",
   "execution_count": 50,
   "id": "ae51f503-3afd-4a47-87e1-4435f5e6ad1d",
   "metadata": {},
   "outputs": [],
   "source": [
    "#plt.boxplot(data_1_costly_cars['Price_USD'])\n",
    "#plt.show()"
   ]
  },
  {
   "cell_type": "code",
   "execution_count": 84,
   "id": "3dde436f-b080-4ad1-838d-43c998b686af",
   "metadata": {},
   "outputs": [],
   "source": [
    "data_2 = data_selection.copy()\n",
    "mask_price_2 = data_2['Price_USD'] <= 50000\n",
    "data_2 = data_2[mask_price_2]\n"
   ]
  },
  {
   "cell_type": "code",
   "execution_count": 85,
   "id": "6d80543a-f72c-45b1-93d0-f896ae99d04b",
   "metadata": {},
   "outputs": [
    {
     "data": {
      "image/png": "[encoded data removed]",
      "text/plain": [
       "<Figure size 640x480 with 1 Axes>"
      ]
     },
     "metadata": {},
     "output_type": "display_data"
    }
   ],
   "source": [
    "plt.boxplot(data_2['Price_USD'])\n",
    "plt.savefig(\"incompleteboxplot_1.png\")\n",
    "plt.show()"
   ]
  },
  {
   "cell_type": "code",
   "execution_count": 26,
   "id": "536105df-c8cc-4af7-ad22-ece4a5b4d100",
   "metadata": {},
   "outputs": [
    {
     "data": {
      "text/plain": [
       "<Figure size 640x480 with 0 Axes>"
      ]
     },
     "metadata": {},
     "output_type": "display_data"
    }
   ],
   "source": [
    "plt.savefig(\"incompleteboxplot_1.png\")"
   ]
  },
  {
   "cell_type": "code",
   "execution_count": null,
   "id": "2471187e-8cda-4f3e-92cc-53b3b6b7da87",
   "metadata": {},
   "outputs": [],
   "source": []
  },
  {
   "cell_type": "markdown",
   "id": "3ba402af-505c-4c62-bdcd-519ad052ec4a",
   "metadata": {},
   "source": [
    "# Feature Scaling"
   ]
  },
  {
   "cell_type": "code",
   "execution_count": 28,
   "id": "7f77426e-490b-49a1-9f5d-fd54d7b90bac",
   "metadata": {},
   "outputs": [
    {
     "data": {
      "text/html": [
       "<div>\n",
       "<style scoped>\n",
       "    .dataframe tbody tr th:only-of-type {\n",
       "        vertical-align: middle;\n",
       "    }\n",
       "\n",
       "    .dataframe tbody tr th {\n",
       "        vertical-align: top;\n",
       "    }\n",
       "\n",
       "    .dataframe thead th {\n",
       "        text-align: right;\n",
       "    }\n",
       "</style>\n",
       "<table border=\"1\" class=\"dataframe\">\n",
       "  <thead>\n",
       "    <tr style=\"text-align: right;\">\n",
       "      <th></th>\n",
       "      <th>title</th>\n",
       "      <th>price_in_aed</th>\n",
       "      <th>kilometers</th>\n",
       "      <th>body_condition</th>\n",
       "      <th>mechanical_condition</th>\n",
       "      <th>body_type</th>\n",
       "      <th>no_of_cylinders</th>\n",
       "      <th>transmission_type</th>\n",
       "      <th>horsepower</th>\n",
       "      <th>steering_side</th>\n",
       "      <th>year</th>\n",
       "      <th>company</th>\n",
       "      <th>Price_USD</th>\n",
       "    </tr>\n",
       "  </thead>\n",
       "  <tbody>\n",
       "    <tr>\n",
       "      <th>0</th>\n",
       "      <td>MITSUBISHI PAJERO 3.5L / 2013</td>\n",
       "      <td>26000.0</td>\n",
       "      <td>167390</td>\n",
       "      <td>Perfect inside and out</td>\n",
       "      <td>Perfect inside and out</td>\n",
       "      <td>SUV</td>\n",
       "      <td>6</td>\n",
       "      <td>Automatic Transmission</td>\n",
       "      <td>Unknown</td>\n",
       "      <td>Left Hand Side</td>\n",
       "      <td>2013.0</td>\n",
       "      <td>mitsubishi</td>\n",
       "      <td>7020.0</td>\n",
       "    </tr>\n",
       "    <tr>\n",
       "      <th>1</th>\n",
       "      <td>chevrolet silverado</td>\n",
       "      <td>110000.0</td>\n",
       "      <td>39000</td>\n",
       "      <td>Perfect inside and out</td>\n",
       "      <td>Perfect inside and out</td>\n",
       "      <td>SUV</td>\n",
       "      <td>8</td>\n",
       "      <td>Automatic Transmission</td>\n",
       "      <td>400 - 500 HP</td>\n",
       "      <td>Left Hand Side</td>\n",
       "      <td>2018.0</td>\n",
       "      <td>chevrolet</td>\n",
       "      <td>29700.0</td>\n",
       "    </tr>\n",
       "  </tbody>\n",
       "</table>\n",
       "</div>"
      ],
      "text/plain": [
       "                           title  price_in_aed  kilometers  \\\n",
       "0  MITSUBISHI PAJERO 3.5L / 2013       26000.0      167390   \n",
       "1            chevrolet silverado      110000.0       39000   \n",
       "\n",
       "           body_condition    mechanical_condition body_type no_of_cylinders  \\\n",
       "0  Perfect inside and out  Perfect inside and out       SUV               6   \n",
       "1  Perfect inside and out  Perfect inside and out       SUV               8   \n",
       "\n",
       "        transmission_type    horsepower   steering_side    year     company  \\\n",
       "0  Automatic Transmission       Unknown  Left Hand Side  2013.0  mitsubishi   \n",
       "1  Automatic Transmission  400 - 500 HP  Left Hand Side  2018.0   chevrolet   \n",
       "\n",
       "   Price_USD  \n",
       "0     7020.0  \n",
       "1    29700.0  "
      ]
     },
     "execution_count": 28,
     "metadata": {},
     "output_type": "execute_result"
    }
   ],
   "source": [
    "data_2.head(2)"
   ]
  },
  {
   "cell_type": "code",
   "execution_count": 86,
   "id": "f7ea5773-0370-4808-be50-048667edbade",
   "metadata": {},
   "outputs": [],
   "source": [
    "scaler = MinMaxScaler()"
   ]
  },
  {
   "cell_type": "code",
   "execution_count": 87,
   "id": "42f62e02-ba42-4579-9fe2-02c8c276796b",
   "metadata": {},
   "outputs": [
    {
     "name": "stdout",
     "output_type": "stream",
     "text": [
      "<class 'pandas.core.frame.DataFrame'>\n",
      "Index: 6750 entries, 0 to 9969\n",
      "Data columns (total 13 columns):\n",
      " #   Column                Non-Null Count  Dtype  \n",
      "---  ------                --------------  -----  \n",
      " 0   title                 6750 non-null   object \n",
      " 1   price_in_aed          6750 non-null   float64\n",
      " 2   kilometers            6750 non-null   int64  \n",
      " 3   body_condition        6750 non-null   object \n",
      " 4   mechanical_condition  6750 non-null   object \n",
      " 5   body_type             6750 non-null   object \n",
      " 6   no_of_cylinders       6750 non-null   object \n",
      " 7   transmission_type     6750 non-null   object \n",
      " 8   horsepower            6750 non-null   object \n",
      " 9   steering_side         6750 non-null   object \n",
      " 10  year                  6750 non-null   float64\n",
      " 11  company               6750 non-null   object \n",
      " 12  Price_USD             6750 non-null   float64\n",
      "dtypes: float64(3), int64(1), object(9)\n",
      "memory usage: 738.3+ KB\n"
     ]
    }
   ],
   "source": [
    "data_2.info()"
   ]
  },
  {
   "cell_type": "code",
   "execution_count": 88,
   "id": "50a123c1-77a1-4295-a5bf-135a5a9a7175",
   "metadata": {},
   "outputs": [],
   "source": [
    "data_2.reset_index(inplace=True)"
   ]
  },
  {
   "cell_type": "code",
   "execution_count": 89,
   "id": "297fc3d1-031b-483b-8613-2fefbed918cc",
   "metadata": {},
   "outputs": [],
   "source": [
    "scaler_1 = MinMaxScaler()\n",
    "data_scaled_1 = scaler_1.fit_transform(data_2[['kilometers','Price_USD']])"
   ]
  },
  {
   "cell_type": "code",
   "execution_count": 90,
   "id": "f0989291-29d2-46f2-98b6-fb99566cf012",
   "metadata": {},
   "outputs": [
    {
     "data": {
      "text/plain": [
       "numpy.ndarray"
      ]
     },
     "execution_count": 90,
     "metadata": {},
     "output_type": "execute_result"
    }
   ],
   "source": [
    "type(data_scaled_1)"
   ]
  },
  {
   "cell_type": "code",
   "execution_count": 91,
   "id": "8201cb17-f56b-4c61-921d-dcebaaa7eef7",
   "metadata": {},
   "outputs": [
    {
     "name": "stdout",
     "output_type": "stream",
     "text": [
      "<class 'pandas.core.frame.DataFrame'>\n",
      "RangeIndex: 6750 entries, 0 to 6749\n",
      "Data columns (total 2 columns):\n",
      " #   Column      Non-Null Count  Dtype  \n",
      "---  ------      --------------  -----  \n",
      " 0   kilometers  6750 non-null   float64\n",
      " 1   Price_USD   6750 non-null   float64\n",
      "dtypes: float64(2)\n",
      "memory usage: 105.6 KB\n"
     ]
    }
   ],
   "source": [
    "data_scaled_cols = pd.DataFrame(data_scaled_1, columns = ['kilometers','Price_USD'])\n",
    "data_scaled_cols.info()"
   ]
  },
  {
   "cell_type": "code",
   "execution_count": 92,
   "id": "1c676ff8-a761-4501-b83b-d3d5c740b167",
   "metadata": {},
   "outputs": [
    {
     "name": "stdout",
     "output_type": "stream",
     "text": [
      "<class 'pandas.core.frame.DataFrame'>\n",
      "RangeIndex: 6750 entries, 0 to 6749\n",
      "Data columns (total 14 columns):\n",
      " #   Column                Non-Null Count  Dtype  \n",
      "---  ------                --------------  -----  \n",
      " 0   index                 6750 non-null   int64  \n",
      " 1   title                 6750 non-null   object \n",
      " 2   price_in_aed          6750 non-null   float64\n",
      " 3   kilometers            6750 non-null   int64  \n",
      " 4   body_condition        6750 non-null   object \n",
      " 5   mechanical_condition  6750 non-null   object \n",
      " 6   body_type             6750 non-null   object \n",
      " 7   no_of_cylinders       6750 non-null   object \n",
      " 8   transmission_type     6750 non-null   object \n",
      " 9   horsepower            6750 non-null   object \n",
      " 10  steering_side         6750 non-null   object \n",
      " 11  year                  6750 non-null   float64\n",
      " 12  company               6750 non-null   object \n",
      " 13  Price_USD             6750 non-null   float64\n",
      "dtypes: float64(3), int64(2), object(9)\n",
      "memory usage: 738.4+ KB\n"
     ]
    }
   ],
   "source": [
    "data_2.info()"
   ]
  },
  {
   "cell_type": "code",
   "execution_count": 93,
   "id": "fbe4b8aa-bb77-458a-b4f4-712ae3fb4082",
   "metadata": {},
   "outputs": [],
   "source": [
    "data_2.drop(columns = ['kilometers','Price_USD'], inplace = True)"
   ]
  },
  {
   "cell_type": "code",
   "execution_count": 94,
   "id": "95a13a9d-7a0e-47b0-a631-e24030579611",
   "metadata": {},
   "outputs": [],
   "source": [
    "data_scaled_columns = pd.concat([data_2, data_scaled_cols], axis = 1, ignore_index= True)"
   ]
  },
  {
   "cell_type": "code",
   "execution_count": 95,
   "id": "43deab6d-bf4a-4994-98f8-c4775ff9de96",
   "metadata": {},
   "outputs": [
    {
     "name": "stdout",
     "output_type": "stream",
     "text": [
      "<class 'pandas.core.frame.DataFrame'>\n",
      "RangeIndex: 6750 entries, 0 to 6749\n",
      "Data columns (total 14 columns):\n",
      " #   Column  Non-Null Count  Dtype  \n",
      "---  ------  --------------  -----  \n",
      " 0   0       6750 non-null   int64  \n",
      " 1   1       6750 non-null   object \n",
      " 2   2       6750 non-null   float64\n",
      " 3   3       6750 non-null   object \n",
      " 4   4       6750 non-null   object \n",
      " 5   5       6750 non-null   object \n",
      " 6   6       6750 non-null   object \n",
      " 7   7       6750 non-null   object \n",
      " 8   8       6750 non-null   object \n",
      " 9   9       6750 non-null   object \n",
      " 10  10      6750 non-null   float64\n",
      " 11  11      6750 non-null   object \n",
      " 12  12      6750 non-null   float64\n",
      " 13  13      6750 non-null   float64\n",
      "dtypes: float64(4), int64(1), object(9)\n",
      "memory usage: 738.4+ KB\n"
     ]
    }
   ],
   "source": [
    "data_scaled_columns.info()"
   ]
  },
  {
   "cell_type": "code",
   "execution_count": 96,
   "id": "ff17fccf-9578-4f3d-9d27-8d493612a80b",
   "metadata": {},
   "outputs": [
    {
     "data": {
      "text/html": [
       "<div>\n",
       "<style scoped>\n",
       "    .dataframe tbody tr th:only-of-type {\n",
       "        vertical-align: middle;\n",
       "    }\n",
       "\n",
       "    .dataframe tbody tr th {\n",
       "        vertical-align: top;\n",
       "    }\n",
       "\n",
       "    .dataframe thead th {\n",
       "        text-align: right;\n",
       "    }\n",
       "</style>\n",
       "<table border=\"1\" class=\"dataframe\">\n",
       "  <thead>\n",
       "    <tr style=\"text-align: right;\">\n",
       "      <th></th>\n",
       "      <th>0</th>\n",
       "      <th>1</th>\n",
       "      <th>2</th>\n",
       "      <th>3</th>\n",
       "      <th>4</th>\n",
       "      <th>5</th>\n",
       "      <th>6</th>\n",
       "      <th>7</th>\n",
       "      <th>8</th>\n",
       "      <th>9</th>\n",
       "      <th>10</th>\n",
       "      <th>11</th>\n",
       "      <th>12</th>\n",
       "      <th>13</th>\n",
       "    </tr>\n",
       "  </thead>\n",
       "  <tbody>\n",
       "    <tr>\n",
       "      <th>0</th>\n",
       "      <td>0</td>\n",
       "      <td>MITSUBISHI PAJERO 3.5L / 2013</td>\n",
       "      <td>26000.0</td>\n",
       "      <td>Perfect inside and out</td>\n",
       "      <td>Perfect inside and out</td>\n",
       "      <td>SUV</td>\n",
       "      <td>6</td>\n",
       "      <td>Automatic Transmission</td>\n",
       "      <td>Unknown</td>\n",
       "      <td>Left Hand Side</td>\n",
       "      <td>2013.0</td>\n",
       "      <td>mitsubishi</td>\n",
       "      <td>0.001456</td>\n",
       "      <td>0.111732</td>\n",
       "    </tr>\n",
       "    <tr>\n",
       "      <th>1</th>\n",
       "      <td>1</td>\n",
       "      <td>chevrolet silverado</td>\n",
       "      <td>110000.0</td>\n",
       "      <td>Perfect inside and out</td>\n",
       "      <td>Perfect inside and out</td>\n",
       "      <td>SUV</td>\n",
       "      <td>8</td>\n",
       "      <td>Automatic Transmission</td>\n",
       "      <td>400 - 500 HP</td>\n",
       "      <td>Left Hand Side</td>\n",
       "      <td>2018.0</td>\n",
       "      <td>chevrolet</td>\n",
       "      <td>0.000339</td>\n",
       "      <td>0.581006</td>\n",
       "    </tr>\n",
       "    <tr>\n",
       "      <th>2</th>\n",
       "      <td>2</td>\n",
       "      <td>MERCEDES-BENZ E300 - 2014 - GCC SPEC - FULL OP...</td>\n",
       "      <td>78000.0</td>\n",
       "      <td>Perfect inside and out</td>\n",
       "      <td>Perfect inside and out</td>\n",
       "      <td>Sedan</td>\n",
       "      <td>6</td>\n",
       "      <td>Automatic Transmission</td>\n",
       "      <td>400 - 500 HP</td>\n",
       "      <td>Left Hand Side</td>\n",
       "      <td>2014.0</td>\n",
       "      <td>mercedes-benz</td>\n",
       "      <td>0.001739</td>\n",
       "      <td>0.402235</td>\n",
       "    </tr>\n",
       "    <tr>\n",
       "      <th>3</th>\n",
       "      <td>4</td>\n",
       "      <td>USED RENAULT DOKKER 2020</td>\n",
       "      <td>33000.0</td>\n",
       "      <td>Perfect inside and out</td>\n",
       "      <td>Perfect inside and out</td>\n",
       "      <td>Wagon</td>\n",
       "      <td>4</td>\n",
       "      <td>Manual Transmission</td>\n",
       "      <td>Less than 150 HP</td>\n",
       "      <td>Left Hand Side</td>\n",
       "      <td>2020.0</td>\n",
       "      <td>renault</td>\n",
       "      <td>0.000600</td>\n",
       "      <td>0.150838</td>\n",
       "    </tr>\n",
       "    <tr>\n",
       "      <th>4</th>\n",
       "      <td>5</td>\n",
       "      <td>A7 S-line Quattro. Under Warranty. Accidents F...</td>\n",
       "      <td>98000.0</td>\n",
       "      <td>Perfect inside and out</td>\n",
       "      <td>Perfect inside and out</td>\n",
       "      <td>Sedan</td>\n",
       "      <td>6</td>\n",
       "      <td>Automatic Transmission</td>\n",
       "      <td>200 - 300 HP</td>\n",
       "      <td>Left Hand Side</td>\n",
       "      <td>2015.0</td>\n",
       "      <td>audi</td>\n",
       "      <td>0.000730</td>\n",
       "      <td>0.513966</td>\n",
       "    </tr>\n",
       "    <tr>\n",
       "      <th>...</th>\n",
       "      <td>...</td>\n",
       "      <td>...</td>\n",
       "      <td>...</td>\n",
       "      <td>...</td>\n",
       "      <td>...</td>\n",
       "      <td>...</td>\n",
       "      <td>...</td>\n",
       "      <td>...</td>\n",
       "      <td>...</td>\n",
       "      <td>...</td>\n",
       "      <td>...</td>\n",
       "      <td>...</td>\n",
       "      <td>...</td>\n",
       "      <td>...</td>\n",
       "    </tr>\n",
       "    <tr>\n",
       "      <th>6745</th>\n",
       "      <td>9959</td>\n",
       "      <td>Family Used LandRover LR3// Original Paint// F...</td>\n",
       "      <td>19500.0</td>\n",
       "      <td>Perfect inside and out</td>\n",
       "      <td>Perfect inside and out</td>\n",
       "      <td>SUV</td>\n",
       "      <td>6</td>\n",
       "      <td>Automatic Transmission</td>\n",
       "      <td>150 - 200 HP</td>\n",
       "      <td>Left Hand Side</td>\n",
       "      <td>2008.0</td>\n",
       "      <td>land-rover</td>\n",
       "      <td>0.001174</td>\n",
       "      <td>0.075419</td>\n",
       "    </tr>\n",
       "    <tr>\n",
       "      <th>6746</th>\n",
       "      <td>9960</td>\n",
       "      <td>2019 lexus nx300t full options in excellent co...</td>\n",
       "      <td>95000.0</td>\n",
       "      <td>Perfect inside and out</td>\n",
       "      <td>Perfect inside and out</td>\n",
       "      <td>SUV</td>\n",
       "      <td>4</td>\n",
       "      <td>Automatic Transmission</td>\n",
       "      <td>200 - 300 HP</td>\n",
       "      <td>Left Hand Side</td>\n",
       "      <td>2019.0</td>\n",
       "      <td>lexus</td>\n",
       "      <td>0.000296</td>\n",
       "      <td>0.497207</td>\n",
       "    </tr>\n",
       "    <tr>\n",
       "      <th>6747</th>\n",
       "      <td>9966</td>\n",
       "      <td>LOW MILEAGE Cadillac Escalade Platinum</td>\n",
       "      <td>90000.0</td>\n",
       "      <td>Perfect inside and out</td>\n",
       "      <td>Perfect inside and out</td>\n",
       "      <td>SUV</td>\n",
       "      <td>8</td>\n",
       "      <td>Automatic Transmission</td>\n",
       "      <td>400 - 500 HP</td>\n",
       "      <td>Left Hand Side</td>\n",
       "      <td>2014.0</td>\n",
       "      <td>cadillac</td>\n",
       "      <td>0.000484</td>\n",
       "      <td>0.469274</td>\n",
       "    </tr>\n",
       "    <tr>\n",
       "      <th>6748</th>\n",
       "      <td>9968</td>\n",
       "      <td>Chevrolet Malibu  GCC Spec</td>\n",
       "      <td>18900.0</td>\n",
       "      <td>No accidents, very few faults</td>\n",
       "      <td>Perfect inside and out</td>\n",
       "      <td>Sedan</td>\n",
       "      <td>4</td>\n",
       "      <td>Automatic Transmission</td>\n",
       "      <td>150 - 200 HP</td>\n",
       "      <td>Left Hand Side</td>\n",
       "      <td>2013.0</td>\n",
       "      <td>chevrolet</td>\n",
       "      <td>0.001217</td>\n",
       "      <td>0.072067</td>\n",
       "    </tr>\n",
       "    <tr>\n",
       "      <th>6749</th>\n",
       "      <td>9969</td>\n",
       "      <td>LOW MILEAGE! PERFECT CONDITION! Jeep Wrangler ...</td>\n",
       "      <td>77700.0</td>\n",
       "      <td>Perfect inside and out</td>\n",
       "      <td>Perfect inside and out</td>\n",
       "      <td>Crossover</td>\n",
       "      <td>6</td>\n",
       "      <td>Manual Transmission</td>\n",
       "      <td>200 - 300 HP</td>\n",
       "      <td>Left Hand Side</td>\n",
       "      <td>2013.0</td>\n",
       "      <td>jeep</td>\n",
       "      <td>0.000748</td>\n",
       "      <td>0.400559</td>\n",
       "    </tr>\n",
       "  </tbody>\n",
       "</table>\n",
       "<p>6750 rows × 14 columns</p>\n",
       "</div>"
      ],
      "text/plain": [
       "        0                                                  1         2   \\\n",
       "0        0                      MITSUBISHI PAJERO 3.5L / 2013   26000.0   \n",
       "1        1                                chevrolet silverado  110000.0   \n",
       "2        2  MERCEDES-BENZ E300 - 2014 - GCC SPEC - FULL OP...   78000.0   \n",
       "3        4                           USED RENAULT DOKKER 2020   33000.0   \n",
       "4        5  A7 S-line Quattro. Under Warranty. Accidents F...   98000.0   \n",
       "...    ...                                                ...       ...   \n",
       "6745  9959  Family Used LandRover LR3// Original Paint// F...   19500.0   \n",
       "6746  9960  2019 lexus nx300t full options in excellent co...   95000.0   \n",
       "6747  9966             LOW MILEAGE Cadillac Escalade Platinum   90000.0   \n",
       "6748  9968                         Chevrolet Malibu  GCC Spec   18900.0   \n",
       "6749  9969  LOW MILEAGE! PERFECT CONDITION! Jeep Wrangler ...   77700.0   \n",
       "\n",
       "                                 3                       4          5  6   \\\n",
       "0            Perfect inside and out  Perfect inside and out        SUV  6   \n",
       "1            Perfect inside and out  Perfect inside and out        SUV  8   \n",
       "2            Perfect inside and out  Perfect inside and out      Sedan  6   \n",
       "3            Perfect inside and out  Perfect inside and out      Wagon  4   \n",
       "4            Perfect inside and out  Perfect inside and out      Sedan  6   \n",
       "...                             ...                     ...        ... ..   \n",
       "6745         Perfect inside and out  Perfect inside and out        SUV  6   \n",
       "6746         Perfect inside and out  Perfect inside and out        SUV  4   \n",
       "6747         Perfect inside and out  Perfect inside and out        SUV  8   \n",
       "6748  No accidents, very few faults  Perfect inside and out      Sedan  4   \n",
       "6749         Perfect inside and out  Perfect inside and out  Crossover  6   \n",
       "\n",
       "                          7                 8               9       10  \\\n",
       "0     Automatic Transmission           Unknown  Left Hand Side  2013.0   \n",
       "1     Automatic Transmission      400 - 500 HP  Left Hand Side  2018.0   \n",
       "2     Automatic Transmission      400 - 500 HP  Left Hand Side  2014.0   \n",
       "3        Manual Transmission  Less than 150 HP  Left Hand Side  2020.0   \n",
       "4     Automatic Transmission      200 - 300 HP  Left Hand Side  2015.0   \n",
       "...                      ...               ...             ...     ...   \n",
       "6745  Automatic Transmission      150 - 200 HP  Left Hand Side  2008.0   \n",
       "6746  Automatic Transmission      200 - 300 HP  Left Hand Side  2019.0   \n",
       "6747  Automatic Transmission      400 - 500 HP  Left Hand Side  2014.0   \n",
       "6748  Automatic Transmission      150 - 200 HP  Left Hand Side  2013.0   \n",
       "6749     Manual Transmission      200 - 300 HP  Left Hand Side  2013.0   \n",
       "\n",
       "                 11        12        13  \n",
       "0        mitsubishi  0.001456  0.111732  \n",
       "1         chevrolet  0.000339  0.581006  \n",
       "2     mercedes-benz  0.001739  0.402235  \n",
       "3           renault  0.000600  0.150838  \n",
       "4              audi  0.000730  0.513966  \n",
       "...             ...       ...       ...  \n",
       "6745     land-rover  0.001174  0.075419  \n",
       "6746          lexus  0.000296  0.497207  \n",
       "6747       cadillac  0.000484  0.469274  \n",
       "6748      chevrolet  0.001217  0.072067  \n",
       "6749           jeep  0.000748  0.400559  \n",
       "\n",
       "[6750 rows x 14 columns]"
      ]
     },
     "execution_count": 96,
     "metadata": {},
     "output_type": "execute_result"
    }
   ],
   "source": [
    "data_scaled_columns"
   ]
  },
  {
   "cell_type": "code",
   "execution_count": 66,
   "id": "9939f4e8-8097-42b7-8137-b7d9a52450b7",
   "metadata": {},
   "outputs": [],
   "source": [
    "data_scaled_columns.dropna(inplace = True)"
   ]
  },
  {
   "cell_type": "code",
   "execution_count": 38,
   "id": "5fa1e0d7-cc45-47b8-8e01-21c69c70605c",
   "metadata": {},
   "outputs": [
    {
     "data": {
      "text/plain": [
       "array([[0.99912176, 0.04190116],\n",
       "       [0.79557218, 0.60585882],\n",
       "       [0.99450164, 0.10472102],\n",
       "       ...,\n",
       "       [0.91641419, 0.40023122],\n",
       "       [0.99933636, 0.03642581],\n",
       "       [0.97151152, 0.23699233]])"
      ]
     },
     "execution_count": 38,
     "metadata": {},
     "output_type": "execute_result"
    }
   ],
   "source": [
    "scaler_2 = Normalizer()\n",
    "#data_scaled_2 = \n",
    "scaler_2.fit_transform(data_2[['kilometers','Price_USD']])\n"
   ]
  },
  {
   "cell_type": "code",
   "execution_count": 40,
   "id": "13a7d43b-2bd9-43ef-8fc3-18c76894e4f9",
   "metadata": {},
   "outputs": [
    {
     "data": {
      "text/plain": [
       "array([[ 0.02504229, -1.135898  ],\n",
       "       [-0.0665999 ,  0.73977882],\n",
       "       [ 0.04831864,  0.02523527],\n",
       "       ...,\n",
       "       [-0.0547226 ,  0.29318911],\n",
       "       [ 0.00549186, -1.29443735],\n",
       "       [-0.03305225,  0.01853643]])"
      ]
     },
     "execution_count": 40,
     "metadata": {},
     "output_type": "execute_result"
    }
   ],
   "source": [
    "scaler_3 = StandardScaler()\n",
    "#data_scaled_3 = \n",
    "scaler_3.fit_transform(data_2[['kilometers','Price_USD']])"
   ]
  },
  {
   "cell_type": "markdown",
   "id": "82751678-0e9c-477f-b1ad-82719e7c126f",
   "metadata": {},
   "source": [
    "# Feature Extraction: Nominal Attributes"
   ]
  },
  {
   "cell_type": "code",
   "execution_count": 69,
   "id": "ef6f9b59-2b68-418e-97e1-5b717eb5f03a",
   "metadata": {},
   "outputs": [
    {
     "data": {
      "text/plain": [
       "body_condition\n",
       "Perfect inside and out                6430\n",
       "No accidents, very few faults          190\n",
       "A bit of wear & tear, all repaired      99\n",
       "Normal wear & tear, a few issues        31\n",
       "Name: count, dtype: int64"
      ]
     },
     "execution_count": 69,
     "metadata": {},
     "output_type": "execute_result"
    }
   ],
   "source": [
    "data_2['body_condition'].value_counts()"
   ]
  },
  {
   "cell_type": "code",
   "execution_count": 72,
   "id": "ab9193d6-e39e-437b-a56d-f121c5012dd0",
   "metadata": {},
   "outputs": [],
   "source": [
    "body_con_dict = {'Perfect inside and out': '1.0', 'No accidents, very few faults': '0.6', \n",
    "                 'A bit of wear & tear, all repaired':'0.3','Normal wear & tear, a few issues':'0.1' }"
   ]
  },
  {
   "cell_type": "code",
   "execution_count": 75,
   "id": "d63f6f36-dc7b-4420-b72e-4f2d1c7ded23",
   "metadata": {},
   "outputs": [],
   "source": [
    "data_2['body_condition'] = data_2['body_condition'].map(body_con_dict).astype(float)"
   ]
  },
  {
   "cell_type": "code",
   "execution_count": 76,
   "id": "b0363df5-8308-4d55-ab05-d7ae161275f1",
   "metadata": {},
   "outputs": [
    {
     "data": {
      "text/html": [
       "<div>\n",
       "<style scoped>\n",
       "    .dataframe tbody tr th:only-of-type {\n",
       "        vertical-align: middle;\n",
       "    }\n",
       "\n",
       "    .dataframe tbody tr th {\n",
       "        vertical-align: top;\n",
       "    }\n",
       "\n",
       "    .dataframe thead th {\n",
       "        text-align: right;\n",
       "    }\n",
       "</style>\n",
       "<table border=\"1\" class=\"dataframe\">\n",
       "  <thead>\n",
       "    <tr style=\"text-align: right;\">\n",
       "      <th></th>\n",
       "      <th>title</th>\n",
       "      <th>price_in_aed</th>\n",
       "      <th>body_condition</th>\n",
       "      <th>mechanical_condition</th>\n",
       "      <th>body_type</th>\n",
       "      <th>no_of_cylinders</th>\n",
       "      <th>transmission_type</th>\n",
       "      <th>horsepower</th>\n",
       "      <th>steering_side</th>\n",
       "      <th>year</th>\n",
       "      <th>company</th>\n",
       "    </tr>\n",
       "  </thead>\n",
       "  <tbody>\n",
       "    <tr>\n",
       "      <th>0</th>\n",
       "      <td>MITSUBISHI PAJERO 3.5L / 2013</td>\n",
       "      <td>26000.0</td>\n",
       "      <td>1.0</td>\n",
       "      <td>Perfect inside and out</td>\n",
       "      <td>SUV</td>\n",
       "      <td>6</td>\n",
       "      <td>Automatic Transmission</td>\n",
       "      <td>Unknown</td>\n",
       "      <td>Left Hand Side</td>\n",
       "      <td>2013.0</td>\n",
       "      <td>mitsubishi</td>\n",
       "    </tr>\n",
       "    <tr>\n",
       "      <th>1</th>\n",
       "      <td>chevrolet silverado</td>\n",
       "      <td>110000.0</td>\n",
       "      <td>1.0</td>\n",
       "      <td>Perfect inside and out</td>\n",
       "      <td>SUV</td>\n",
       "      <td>8</td>\n",
       "      <td>Automatic Transmission</td>\n",
       "      <td>400 - 500 HP</td>\n",
       "      <td>Left Hand Side</td>\n",
       "      <td>2018.0</td>\n",
       "      <td>chevrolet</td>\n",
       "    </tr>\n",
       "  </tbody>\n",
       "</table>\n",
       "</div>"
      ],
      "text/plain": [
       "                           title  price_in_aed  body_condition  \\\n",
       "0  MITSUBISHI PAJERO 3.5L / 2013       26000.0             1.0   \n",
       "1            chevrolet silverado      110000.0             1.0   \n",
       "\n",
       "     mechanical_condition body_type no_of_cylinders       transmission_type  \\\n",
       "0  Perfect inside and out       SUV               6  Automatic Transmission   \n",
       "1  Perfect inside and out       SUV               8  Automatic Transmission   \n",
       "\n",
       "     horsepower   steering_side    year     company  \n",
       "0       Unknown  Left Hand Side  2013.0  mitsubishi  \n",
       "1  400 - 500 HP  Left Hand Side  2018.0   chevrolet  "
      ]
     },
     "execution_count": 76,
     "metadata": {},
     "output_type": "execute_result"
    }
   ],
   "source": [
    "data_2.head(2)"
   ]
  },
  {
   "cell_type": "code",
   "execution_count": 77,
   "id": "5ebfd42c-2b41-4121-98aa-3d2ffb2f1acd",
   "metadata": {},
   "outputs": [
    {
     "data": {
      "text/plain": [
       "mechanical_condition\n",
       "Perfect inside and out              8797\n",
       "Minor faults, all fixed              135\n",
       "Major faults fixed, small remain       8\n",
       "Ongoing minor & major faults           3\n",
       "Major faults, all fixed                1\n",
       "Name: count, dtype: int64"
      ]
     },
     "execution_count": 77,
     "metadata": {},
     "output_type": "execute_result"
    }
   ],
   "source": [
    "data['mechanical_condition'].value_counts()"
   ]
  },
  {
   "cell_type": "code",
   "execution_count": null,
   "id": "5a3fd658-3f0e-4566-bb87-2e7c182d60a2",
   "metadata": {},
   "outputs": [],
   "source": []
  }
 ],
 "metadata": {
  "kernelspec": {
   "display_name": "Python 3 (ipykernel)",
   "language": "python",
   "name": "python3"
  },
  "language_info": {
   "codemirror_mode": {
    "name": "ipython",
    "version": 3
   },
   "file_extension": ".py",
   "mimetype": "text/x-python",
   "name": "python",
   "nbconvert_exporter": "python",
   "pygments_lexer": "ipython3",
   "version": "3.11.7"
  }
 },
 "nbformat": 4,
 "nbformat_minor": 5
}
